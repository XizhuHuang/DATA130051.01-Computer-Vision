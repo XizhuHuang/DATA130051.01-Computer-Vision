{
 "cells": [
  {
   "cell_type": "code",
   "execution_count": 1,
   "id": "93c610fb",
   "metadata": {},
   "outputs": [],
   "source": [
    "# 获取数据加载器\n",
    "from data_loader import get_caltech101_loaders\n",
    "\n",
    "train_loader, val_loader, test_loader = get_caltech101_loaders()"
   ]
  },
  {
   "cell_type": "markdown",
   "id": "e3dbea0a",
   "metadata": {},
   "source": [
    "# 预训练微调模式"
   ]
  },
  {
   "cell_type": "markdown",
   "id": "6d748907",
   "metadata": {},
   "source": [
    "### 1a\n",
    "#### 冻结主干网络，仅训练分类头\n",
    "\n",
    "#### `step_size=10, gamma=0.5, backbone_lr=0, head_lr=1e-2, patience=5, reg=1e-4`, data augmentation\n",
    "\n",
    "#### Train Acc=1.0, Val Acc=92.90%, epochs=13\n",
    "\n",
    "#### [TEST RESULT] Loss: 0.2784 | Accuracy: 91.02%"
   ]
  },
  {
   "cell_type": "code",
   "execution_count": 5,
   "id": "399d8504",
   "metadata": {},
   "outputs": [
    {
     "name": "stdout",
     "output_type": "stream",
     "text": [
      "Total parameters: 11,228,325\n",
      "Trainable parameters: 51,813\n"
     ]
    },
    {
     "name": "stderr",
     "output_type": "stream",
     "text": [
      "                                                           \r"
     ]
    },
    {
     "name": "stdout",
     "output_type": "stream",
     "text": [
      "\n",
      "Epoch 1/50\n",
      "Train Loss: 4.4896 | Acc: 5.12%\n",
      "Val   Loss: 3.9550 | Acc: 18.32%\n",
      "LR: 1.00e-03\n",
      "--------------------------------------------------\n"
     ]
    },
    {
     "name": "stderr",
     "output_type": "stream",
     "text": [
      "                                                           \r"
     ]
    },
    {
     "name": "stdout",
     "output_type": "stream",
     "text": [
      "\n",
      "Epoch 2/50\n",
      "Train Loss: 3.6729 | Acc: 32.67%\n",
      "Val   Loss: 3.2058 | Acc: 49.67%\n",
      "LR: 1.00e-03\n",
      "--------------------------------------------------\n"
     ]
    },
    {
     "name": "stderr",
     "output_type": "stream",
     "text": [
      "                                                           \r"
     ]
    },
    {
     "name": "stdout",
     "output_type": "stream",
     "text": [
      "\n",
      "Epoch 3/50\n",
      "Train Loss: 2.9842 | Acc: 57.14%\n",
      "Val   Loss: 2.6086 | Acc: 66.17%\n",
      "LR: 1.00e-03\n",
      "--------------------------------------------------\n"
     ]
    },
    {
     "name": "stderr",
     "output_type": "stream",
     "text": [
      "                                                           \r"
     ]
    },
    {
     "name": "stdout",
     "output_type": "stream",
     "text": [
      "\n",
      "Epoch 4/50\n",
      "Train Loss: 2.4306 | Acc: 70.46%\n",
      "Val   Loss: 2.1395 | Acc: 74.26%\n",
      "LR: 1.00e-03\n",
      "--------------------------------------------------\n"
     ]
    },
    {
     "name": "stderr",
     "output_type": "stream",
     "text": [
      "                                                           \r"
     ]
    },
    {
     "name": "stdout",
     "output_type": "stream",
     "text": [
      "\n",
      "Epoch 5/50\n",
      "Train Loss: 2.0059 | Acc: 78.55%\n",
      "Val   Loss: 1.8084 | Acc: 79.21%\n",
      "LR: 1.00e-03\n",
      "--------------------------------------------------\n"
     ]
    },
    {
     "name": "stderr",
     "output_type": "stream",
     "text": [
      "                                                           \r"
     ]
    },
    {
     "name": "stdout",
     "output_type": "stream",
     "text": [
      "\n",
      "Epoch 6/50\n",
      "Train Loss: 1.6981 | Acc: 82.14%\n",
      "Val   Loss: 1.5491 | Acc: 80.36%\n",
      "LR: 1.00e-03\n",
      "--------------------------------------------------\n"
     ]
    },
    {
     "name": "stderr",
     "output_type": "stream",
     "text": [
      "                                                           \r"
     ]
    },
    {
     "name": "stdout",
     "output_type": "stream",
     "text": [
      "\n",
      "Epoch 7/50\n",
      "Train Loss: 1.4672 | Acc: 84.94%\n",
      "Val   Loss: 1.3624 | Acc: 84.32%\n",
      "LR: 1.00e-03\n",
      "--------------------------------------------------\n"
     ]
    },
    {
     "name": "stderr",
     "output_type": "stream",
     "text": [
      "                                                           \r"
     ]
    },
    {
     "name": "stdout",
     "output_type": "stream",
     "text": [
      "\n",
      "Epoch 8/50\n",
      "Train Loss: 1.2806 | Acc: 86.92%\n",
      "Val   Loss: 1.2118 | Acc: 83.50%\n",
      "LR: 1.00e-03\n",
      "--------------------------------------------------\n"
     ]
    },
    {
     "name": "stderr",
     "output_type": "stream",
     "text": [
      "                                                           \r"
     ]
    },
    {
     "name": "stdout",
     "output_type": "stream",
     "text": [
      "\n",
      "Epoch 9/50\n",
      "Train Loss: 1.1431 | Acc: 88.41%\n",
      "Val   Loss: 1.1116 | Acc: 86.47%\n",
      "LR: 1.00e-03\n",
      "--------------------------------------------------\n"
     ]
    },
    {
     "name": "stderr",
     "output_type": "stream",
     "text": [
      "                                                           \r"
     ]
    },
    {
     "name": "stdout",
     "output_type": "stream",
     "text": [
      "\n",
      "Epoch 10/50\n",
      "Train Loss: 1.0313 | Acc: 89.27%\n",
      "Val   Loss: 1.0315 | Acc: 85.97%\n",
      "LR: 1.00e-03\n",
      "--------------------------------------------------\n"
     ]
    },
    {
     "name": "stderr",
     "output_type": "stream",
     "text": [
      "                                                           \r"
     ]
    },
    {
     "name": "stdout",
     "output_type": "stream",
     "text": [
      "\n",
      "Epoch 11/50\n",
      "Train Loss: 0.9451 | Acc: 90.76%\n",
      "Val   Loss: 0.9861 | Acc: 87.13%\n",
      "LR: 5.00e-04\n",
      "--------------------------------------------------\n"
     ]
    },
    {
     "name": "stderr",
     "output_type": "stream",
     "text": [
      "                                                           \r"
     ]
    },
    {
     "name": "stdout",
     "output_type": "stream",
     "text": [
      "\n",
      "Epoch 12/50\n",
      "Train Loss: 0.9057 | Acc: 91.25%\n",
      "Val   Loss: 0.9617 | Acc: 87.29%\n",
      "LR: 5.00e-04\n",
      "--------------------------------------------------\n"
     ]
    },
    {
     "name": "stderr",
     "output_type": "stream",
     "text": [
      "                                                           \r"
     ]
    },
    {
     "name": "stdout",
     "output_type": "stream",
     "text": [
      "\n",
      "Epoch 13/50\n",
      "Train Loss: 0.8748 | Acc: 91.38%\n",
      "Val   Loss: 0.9382 | Acc: 86.47%\n",
      "LR: 5.00e-04\n",
      "--------------------------------------------------\n"
     ]
    },
    {
     "name": "stderr",
     "output_type": "stream",
     "text": [
      "                                                           \r"
     ]
    },
    {
     "name": "stdout",
     "output_type": "stream",
     "text": [
      "\n",
      "Epoch 14/50\n",
      "Train Loss: 0.8363 | Acc: 92.29%\n",
      "Val   Loss: 0.9058 | Acc: 87.46%\n",
      "LR: 5.00e-04\n",
      "--------------------------------------------------\n"
     ]
    },
    {
     "name": "stderr",
     "output_type": "stream",
     "text": [
      "                                                           \r"
     ]
    },
    {
     "name": "stdout",
     "output_type": "stream",
     "text": [
      "\n",
      "Epoch 15/50\n",
      "Train Loss: 0.8056 | Acc: 92.41%\n",
      "Val   Loss: 0.8724 | Acc: 87.46%\n",
      "LR: 5.00e-04\n",
      "--------------------------------------------------\n"
     ]
    },
    {
     "name": "stderr",
     "output_type": "stream",
     "text": [
      "                                                           \r"
     ]
    },
    {
     "name": "stdout",
     "output_type": "stream",
     "text": [
      "\n",
      "Epoch 16/50\n",
      "Train Loss: 0.7737 | Acc: 93.15%\n",
      "Val   Loss: 0.8462 | Acc: 87.79%\n",
      "LR: 5.00e-04\n",
      "--------------------------------------------------\n"
     ]
    },
    {
     "name": "stderr",
     "output_type": "stream",
     "text": [
      "                                                           \r"
     ]
    },
    {
     "name": "stdout",
     "output_type": "stream",
     "text": [
      "\n",
      "Epoch 17/50\n",
      "Train Loss: 0.7510 | Acc: 92.99%\n",
      "Val   Loss: 0.8286 | Acc: 88.12%\n",
      "LR: 5.00e-04\n",
      "--------------------------------------------------\n"
     ]
    },
    {
     "name": "stderr",
     "output_type": "stream",
     "text": [
      "                                                           \r"
     ]
    },
    {
     "name": "stdout",
     "output_type": "stream",
     "text": [
      "\n",
      "Epoch 18/50\n",
      "Train Loss: 0.7216 | Acc: 93.03%\n",
      "Val   Loss: 0.8101 | Acc: 87.95%\n",
      "LR: 5.00e-04\n",
      "--------------------------------------------------\n"
     ]
    },
    {
     "name": "stderr",
     "output_type": "stream",
     "text": [
      "                                                           \r"
     ]
    },
    {
     "name": "stdout",
     "output_type": "stream",
     "text": [
      "\n",
      "Epoch 19/50\n",
      "Train Loss: 0.7059 | Acc: 93.15%\n",
      "Val   Loss: 0.7925 | Acc: 88.45%\n",
      "LR: 5.00e-04\n",
      "--------------------------------------------------\n"
     ]
    },
    {
     "name": "stderr",
     "output_type": "stream",
     "text": [
      "                                                           \r"
     ]
    },
    {
     "name": "stdout",
     "output_type": "stream",
     "text": [
      "\n",
      "Epoch 20/50\n",
      "Train Loss: 0.6773 | Acc: 93.61%\n",
      "Val   Loss: 0.7889 | Acc: 88.28%\n",
      "LR: 5.00e-04\n",
      "--------------------------------------------------\n"
     ]
    },
    {
     "name": "stderr",
     "output_type": "stream",
     "text": [
      "                                                           \r"
     ]
    },
    {
     "name": "stdout",
     "output_type": "stream",
     "text": [
      "\n",
      "Epoch 21/50\n",
      "Train Loss: 0.6606 | Acc: 93.85%\n",
      "Val   Loss: 0.7772 | Acc: 88.12%\n",
      "LR: 2.50e-04\n",
      "--------------------------------------------------\n"
     ]
    },
    {
     "name": "stderr",
     "output_type": "stream",
     "text": [
      "                                                           \r"
     ]
    },
    {
     "name": "stdout",
     "output_type": "stream",
     "text": [
      "\n",
      "Epoch 22/50\n",
      "Train Loss: 0.6546 | Acc: 93.52%\n",
      "Val   Loss: 0.7801 | Acc: 88.28%\n",
      "LR: 2.50e-04\n",
      "--------------------------------------------------\n"
     ]
    },
    {
     "name": "stderr",
     "output_type": "stream",
     "text": [
      "                                                           \r"
     ]
    },
    {
     "name": "stdout",
     "output_type": "stream",
     "text": [
      "\n",
      "Epoch 23/50\n",
      "Train Loss: 0.6504 | Acc: 93.98%\n",
      "Val   Loss: 0.7473 | Acc: 88.94%\n",
      "LR: 2.50e-04\n",
      "--------------------------------------------------\n"
     ]
    },
    {
     "name": "stderr",
     "output_type": "stream",
     "text": [
      "                                                           \r"
     ]
    },
    {
     "name": "stdout",
     "output_type": "stream",
     "text": [
      "\n",
      "Epoch 24/50\n",
      "Train Loss: 0.6281 | Acc: 94.43%\n",
      "Val   Loss: 0.7409 | Acc: 88.28%\n",
      "LR: 2.50e-04\n",
      "--------------------------------------------------\n"
     ]
    },
    {
     "name": "stderr",
     "output_type": "stream",
     "text": [
      "                                                           \r"
     ]
    },
    {
     "name": "stdout",
     "output_type": "stream",
     "text": [
      "\n",
      "Epoch 25/50\n",
      "Train Loss: 0.6244 | Acc: 94.51%\n",
      "Val   Loss: 0.7442 | Acc: 88.45%\n",
      "LR: 2.50e-04\n",
      "--------------------------------------------------\n"
     ]
    },
    {
     "name": "stderr",
     "output_type": "stream",
     "text": [
      "                                                           \r"
     ]
    },
    {
     "name": "stdout",
     "output_type": "stream",
     "text": [
      "\n",
      "Epoch 26/50\n",
      "Train Loss: 0.6156 | Acc: 94.35%\n",
      "Val   Loss: 0.7397 | Acc: 88.28%\n",
      "LR: 2.50e-04\n",
      "--------------------------------------------------\n"
     ]
    },
    {
     "name": "stderr",
     "output_type": "stream",
     "text": [
      "                                                           \r"
     ]
    },
    {
     "name": "stdout",
     "output_type": "stream",
     "text": [
      "\n",
      "Epoch 27/50\n",
      "Train Loss: 0.6041 | Acc: 94.55%\n",
      "Val   Loss: 0.7340 | Acc: 88.45%\n",
      "LR: 2.50e-04\n",
      "--------------------------------------------------\n"
     ]
    },
    {
     "name": "stderr",
     "output_type": "stream",
     "text": [
      "                                                           \r"
     ]
    },
    {
     "name": "stdout",
     "output_type": "stream",
     "text": [
      "\n",
      "Epoch 28/50\n",
      "Train Loss: 0.5951 | Acc: 95.01%\n",
      "Val   Loss: 0.7321 | Acc: 87.95%\n",
      "LR: 2.50e-04\n",
      "--------------------------------------------------\n",
      "Early stopping at epoch 29\n"
     ]
    },
    {
     "data": {
      "image/png": "[encoded data removed]",
      "text/plain": [
       "<Figure size 1200x500 with 2 Axes>"
      ]
     },
     "metadata": {},
     "output_type": "display_data"
    }
   ],
   "source": [
    "# 加载预训练模型并替换分类头\n",
    "import torchvision.models as models\n",
    "import torch.nn as nn\n",
    "from train import Trainer, count_params\n",
    "\n",
    "model = models.resnet18(pretrained=True)\n",
    "num_features = model.fc.in_features\n",
    "model.fc = nn.Linear(num_features, 101)  # 替换为101类输出\n",
    "\n",
    "# 冻结所有非分类头的参数\n",
    "for name, param in model.named_parameters():\n",
    "    if \"fc\" not in name:  \n",
    "        param.requires_grad = False\n",
    "\n",
    "# 初始化Trainer，指定仅训练分类头（主干学习率设为0）\n",
    "trainer = Trainer(\n",
    "    model=model,\n",
    "    mode='finetune',      # 使用微调模式\n",
    "    lr=0.01,              # 分类头学习率（实际生效）\n",
    "    backbone_lr=0.0,      # 主干学习率设为0（冻结）\n",
    "    head_lr=0.01,         # 明确指定分类头学习率\n",
    "    reg=1e-4,\n",
    "    step_size=10,\n",
    "    gamma=0.5,\n",
    "    momentum=0.9\n",
    ")\n",
    "\n",
    "count_params(model)\n",
    "\n",
    "results = trainer.train(train_loader, val_loader, epochs=50, save_path=\"checkpoints/finetune_resnet18_freeze.pth\")\n",
    "trainer.plot_learning_curve()"
   ]
  },
  {
   "cell_type": "code",
   "execution_count": 6,
   "id": "a84c08b9",
   "metadata": {},
   "outputs": [
    {
     "name": "stderr",
     "output_type": "stream",
     "text": [
      "                                                             "
     ]
    },
    {
     "name": "stdout",
     "output_type": "stream",
     "text": [
      "\n",
      "[TEST RESULT] Loss: 0.6269 | Accuracy: 86.95%\n"
     ]
    },
    {
     "name": "stderr",
     "output_type": "stream",
     "text": [
      "\r"
     ]
    }
   ],
   "source": [
    "test_loss, test_acc = trainer.validate(test_loader)\n",
    "print(f\"\\n[TEST RESULT] Loss: {test_loss:.4f} | Accuracy: {test_acc:.2%}\")"
   ]
  },
  {
   "cell_type": "markdown",
   "id": "f4d3411e",
   "metadata": {},
   "source": [
    "### 3a\n",
    "#### `step_size=10, gamma=0.5, backbone_lr=1e-3, head_lr=1e-2, patience=5, reg=1e-3`, data augmentation\n",
    "\n",
    "#### Train Acc=100%, Val Acc=92.24%, 12 epochs\n",
    "\n",
    "#### [TEST RESULT] Loss: 0.2681 | Accuracy: 91.85%"
   ]
  },
  {
   "cell_type": "code",
   "execution_count": 7,
   "id": "4afca56b",
   "metadata": {},
   "outputs": [
    {
     "name": "stdout",
     "output_type": "stream",
     "text": [
      "Total parameters: 11,228,325\n",
      "Trainable parameters: 11,228,325\n"
     ]
    },
    {
     "name": "stderr",
     "output_type": "stream",
     "text": [
      "                                                           \r"
     ]
    },
    {
     "name": "stdout",
     "output_type": "stream",
     "text": [
      "\n",
      "Epoch 1/50\n",
      "Train Loss: 2.7861 | Acc: 42.37%\n",
      "Val   Loss: 0.8676 | Acc: 81.02%\n",
      "LR: 1.00e-03\n",
      "--------------------------------------------------\n"
     ]
    },
    {
     "name": "stderr",
     "output_type": "stream",
     "text": [
      "                                                           \r"
     ]
    },
    {
     "name": "stdout",
     "output_type": "stream",
     "text": [
      "\n",
      "Epoch 2/50\n",
      "Train Loss: 0.5359 | Acc: 89.40%\n",
      "Val   Loss: 0.4755 | Acc: 87.79%\n",
      "LR: 1.00e-03\n",
      "--------------------------------------------------\n"
     ]
    },
    {
     "name": "stderr",
     "output_type": "stream",
     "text": [
      "                                                           \r"
     ]
    },
    {
     "name": "stdout",
     "output_type": "stream",
     "text": [
      "\n",
      "Epoch 3/50\n",
      "Train Loss: 0.2321 | Acc: 96.33%\n",
      "Val   Loss: 0.3896 | Acc: 90.76%\n",
      "LR: 1.00e-03\n",
      "--------------------------------------------------\n"
     ]
    },
    {
     "name": "stderr",
     "output_type": "stream",
     "text": [
      "                                                           \r"
     ]
    },
    {
     "name": "stdout",
     "output_type": "stream",
     "text": [
      "\n",
      "Epoch 4/50\n",
      "Train Loss: 0.1261 | Acc: 98.76%\n",
      "Val   Loss: 0.3380 | Acc: 90.92%\n",
      "LR: 1.00e-03\n",
      "--------------------------------------------------\n"
     ]
    },
    {
     "name": "stderr",
     "output_type": "stream",
     "text": [
      "                                                           \r"
     ]
    },
    {
     "name": "stdout",
     "output_type": "stream",
     "text": [
      "\n",
      "Epoch 5/50\n",
      "Train Loss: 0.0740 | Acc: 99.83%\n",
      "Val   Loss: 0.3144 | Acc: 91.09%\n",
      "LR: 1.00e-03\n",
      "--------------------------------------------------\n"
     ]
    },
    {
     "name": "stderr",
     "output_type": "stream",
     "text": [
      "                                                           \r"
     ]
    },
    {
     "name": "stdout",
     "output_type": "stream",
     "text": [
      "\n",
      "Epoch 6/50\n",
      "Train Loss: 0.0591 | Acc: 99.75%\n",
      "Val   Loss: 0.3083 | Acc: 91.25%\n",
      "LR: 1.00e-03\n",
      "--------------------------------------------------\n"
     ]
    },
    {
     "name": "stderr",
     "output_type": "stream",
     "text": [
      "                                                           \r"
     ]
    },
    {
     "name": "stdout",
     "output_type": "stream",
     "text": [
      "\n",
      "Epoch 7/50\n",
      "Train Loss: 0.0459 | Acc: 99.88%\n",
      "Val   Loss: 0.3003 | Acc: 92.24%\n",
      "LR: 1.00e-03\n",
      "--------------------------------------------------\n"
     ]
    },
    {
     "name": "stderr",
     "output_type": "stream",
     "text": [
      "                                                           \r"
     ]
    },
    {
     "name": "stdout",
     "output_type": "stream",
     "text": [
      "\n",
      "Epoch 8/50\n",
      "Train Loss: 0.0374 | Acc: 99.96%\n",
      "Val   Loss: 0.2934 | Acc: 92.24%\n",
      "LR: 1.00e-03\n",
      "--------------------------------------------------\n"
     ]
    },
    {
     "name": "stderr",
     "output_type": "stream",
     "text": [
      "                                                           \r"
     ]
    },
    {
     "name": "stdout",
     "output_type": "stream",
     "text": [
      "\n",
      "Epoch 9/50\n",
      "Train Loss: 0.0302 | Acc: 100.00%\n",
      "Val   Loss: 0.2894 | Acc: 91.58%\n",
      "LR: 1.00e-03\n",
      "--------------------------------------------------\n"
     ]
    },
    {
     "name": "stderr",
     "output_type": "stream",
     "text": [
      "                                                           \r"
     ]
    },
    {
     "name": "stdout",
     "output_type": "stream",
     "text": [
      "\n",
      "Epoch 10/50\n",
      "Train Loss: 0.0269 | Acc: 100.00%\n",
      "Val   Loss: 0.2857 | Acc: 91.75%\n",
      "LR: 1.00e-03\n",
      "--------------------------------------------------\n"
     ]
    },
    {
     "name": "stderr",
     "output_type": "stream",
     "text": [
      "                                                           \r"
     ]
    },
    {
     "name": "stdout",
     "output_type": "stream",
     "text": [
      "\n",
      "Epoch 11/50\n",
      "Train Loss: 0.0235 | Acc: 100.00%\n",
      "Val   Loss: 0.2898 | Acc: 91.91%\n",
      "LR: 5.00e-04\n",
      "--------------------------------------------------\n"
     ]
    },
    {
     "name": "stderr",
     "output_type": "stream",
     "text": [
      "                                                           "
     ]
    },
    {
     "name": "stdout",
     "output_type": "stream",
     "text": [
      "\n",
      "Epoch 12/50\n",
      "Train Loss: 0.0213 | Acc: 100.00%\n",
      "Val   Loss: 0.2882 | Acc: 91.25%\n",
      "LR: 5.00e-04\n",
      "--------------------------------------------------\n",
      "Early stopping at epoch 13\n"
     ]
    },
    {
     "name": "stderr",
     "output_type": "stream",
     "text": [
      "\r"
     ]
    },
    {
     "data": {
      "image/png": "[encoded data removed]",
      "text/plain": [
       "<Figure size 1200x500 with 2 Axes>"
      ]
     },
     "metadata": {},
     "output_type": "display_data"
    }
   ],
   "source": [
    "from models import Caltech101Classifier\n",
    "from train import Trainer, count_params\n",
    "\n",
    "model = Caltech101Classifier(arch='resnet18', pretrained=True)  # 加载ImageNet权重\n",
    "\n",
    "trainer = Trainer(\n",
    "    model=model,\n",
    "    mode='finetune',\n",
    "    lr=0.01,                 # 总体学习率\n",
    "    backbone_lr=0.001,       # 主干网络较小学习率\n",
    "    head_lr=0.01,            # 分类头较大学习率\n",
    "    reg=1e-3,\n",
    "    step_size=10,\n",
    "    gamma=0.5,\n",
    "    patience=5,\n",
    "    momentum=0.9\n",
    ")\n",
    "\n",
    "count_params(model)\n",
    "\n",
    "trainer.train(train_loader, val_loader, epochs=50, save_path=\"checkpoints/finetune_resnet18_2.pth\")\n",
    "trainer.plot_learning_curve()"
   ]
  },
  {
   "cell_type": "markdown",
   "id": "772ccab4",
   "metadata": {},
   "source": [
    "### 4a\n",
    "#### `step_size=10, gamma=0.5, backbone_lr=1e-4, head_lr=1e-2, patience=5, reg=1e-4`, data augmentation\n",
    "\n",
    "#### Train Acc=99.92%, Val Acc=90.59%, epochs=15\n",
    "\n",
    "#### [TEST RESULT] Loss: 0.3208 | Accuracy: 89.50%"
   ]
  },
  {
   "cell_type": "code",
   "execution_count": 8,
   "id": "d33568f5",
   "metadata": {},
   "outputs": [
    {
     "name": "stdout",
     "output_type": "stream",
     "text": [
      "Total parameters: 11,228,325\n",
      "Trainable parameters: 11,228,325\n"
     ]
    },
    {
     "name": "stderr",
     "output_type": "stream",
     "text": [
      "                                                           \r"
     ]
    },
    {
     "name": "stdout",
     "output_type": "stream",
     "text": [
      "\n",
      "Epoch 1/50\n",
      "Train Loss: 2.9022 | Acc: 40.51%\n",
      "Val   Loss: 1.0593 | Acc: 77.89%\n",
      "LR: 1.00e-04\n",
      "--------------------------------------------------\n"
     ]
    },
    {
     "name": "stderr",
     "output_type": "stream",
     "text": [
      "                                                           \r"
     ]
    },
    {
     "name": "stdout",
     "output_type": "stream",
     "text": [
      "\n",
      "Epoch 2/50\n",
      "Train Loss: 0.7384 | Acc: 85.52%\n",
      "Val   Loss: 0.6134 | Acc: 85.64%\n",
      "LR: 1.00e-04\n",
      "--------------------------------------------------\n"
     ]
    },
    {
     "name": "stderr",
     "output_type": "stream",
     "text": [
      "                                                           \r"
     ]
    },
    {
     "name": "stdout",
     "output_type": "stream",
     "text": [
      "\n",
      "Epoch 3/50\n",
      "Train Loss: 0.4134 | Acc: 92.99%\n",
      "Val   Loss: 0.4992 | Acc: 88.61%\n",
      "LR: 1.00e-04\n",
      "--------------------------------------------------\n"
     ]
    },
    {
     "name": "stderr",
     "output_type": "stream",
     "text": [
      "                                                           \r"
     ]
    },
    {
     "name": "stdout",
     "output_type": "stream",
     "text": [
      "\n",
      "Epoch 4/50\n",
      "Train Loss: 0.2783 | Acc: 95.17%\n",
      "Val   Loss: 0.4526 | Acc: 89.11%\n",
      "LR: 1.00e-04\n",
      "--------------------------------------------------\n"
     ]
    },
    {
     "name": "stderr",
     "output_type": "stream",
     "text": [
      "                                                           \r"
     ]
    },
    {
     "name": "stdout",
     "output_type": "stream",
     "text": [
      "\n",
      "Epoch 5/50\n",
      "Train Loss: 0.1997 | Acc: 97.57%\n",
      "Val   Loss: 0.4084 | Acc: 88.94%\n",
      "LR: 1.00e-04\n",
      "--------------------------------------------------\n"
     ]
    },
    {
     "name": "stderr",
     "output_type": "stream",
     "text": [
      "                                                           \r"
     ]
    },
    {
     "name": "stdout",
     "output_type": "stream",
     "text": [
      "\n",
      "Epoch 6/50\n",
      "Train Loss: 0.1487 | Acc: 98.80%\n",
      "Val   Loss: 0.3942 | Acc: 90.26%\n",
      "LR: 1.00e-04\n",
      "--------------------------------------------------\n"
     ]
    },
    {
     "name": "stderr",
     "output_type": "stream",
     "text": [
      "                                                           \r"
     ]
    },
    {
     "name": "stdout",
     "output_type": "stream",
     "text": [
      "\n",
      "Epoch 7/50\n",
      "Train Loss: 0.1239 | Acc: 99.01%\n",
      "Val   Loss: 0.3682 | Acc: 89.93%\n",
      "LR: 1.00e-04\n",
      "--------------------------------------------------\n"
     ]
    },
    {
     "name": "stderr",
     "output_type": "stream",
     "text": [
      "                                                           \r"
     ]
    },
    {
     "name": "stdout",
     "output_type": "stream",
     "text": [
      "\n",
      "Epoch 8/50\n",
      "Train Loss: 0.0954 | Acc: 99.34%\n",
      "Val   Loss: 0.3620 | Acc: 89.77%\n",
      "LR: 1.00e-04\n",
      "--------------------------------------------------\n"
     ]
    },
    {
     "name": "stderr",
     "output_type": "stream",
     "text": [
      "                                                           \r"
     ]
    },
    {
     "name": "stdout",
     "output_type": "stream",
     "text": [
      "\n",
      "Epoch 9/50\n",
      "Train Loss: 0.0886 | Acc: 99.46%\n",
      "Val   Loss: 0.3682 | Acc: 88.61%\n",
      "LR: 1.00e-04\n",
      "--------------------------------------------------\n"
     ]
    },
    {
     "name": "stderr",
     "output_type": "stream",
     "text": [
      "                                                           \r"
     ]
    },
    {
     "name": "stdout",
     "output_type": "stream",
     "text": [
      "\n",
      "Epoch 10/50\n",
      "Train Loss: 0.0706 | Acc: 99.75%\n",
      "Val   Loss: 0.3482 | Acc: 90.59%\n",
      "LR: 1.00e-04\n",
      "--------------------------------------------------\n"
     ]
    },
    {
     "name": "stderr",
     "output_type": "stream",
     "text": [
      "                                                           \r"
     ]
    },
    {
     "name": "stdout",
     "output_type": "stream",
     "text": [
      "\n",
      "Epoch 11/50\n",
      "Train Loss: 0.0575 | Acc: 99.83%\n",
      "Val   Loss: 0.3353 | Acc: 90.59%\n",
      "LR: 5.00e-05\n",
      "--------------------------------------------------\n"
     ]
    },
    {
     "name": "stderr",
     "output_type": "stream",
     "text": [
      "                                                           \r"
     ]
    },
    {
     "name": "stdout",
     "output_type": "stream",
     "text": [
      "\n",
      "Epoch 12/50\n",
      "Train Loss: 0.0554 | Acc: 99.88%\n",
      "Val   Loss: 0.3415 | Acc: 89.77%\n",
      "LR: 5.00e-05\n",
      "--------------------------------------------------\n"
     ]
    },
    {
     "name": "stderr",
     "output_type": "stream",
     "text": [
      "                                                           \r"
     ]
    },
    {
     "name": "stdout",
     "output_type": "stream",
     "text": [
      "\n",
      "Epoch 13/50\n",
      "Train Loss: 0.0547 | Acc: 99.79%\n",
      "Val   Loss: 0.3375 | Acc: 90.59%\n",
      "LR: 5.00e-05\n",
      "--------------------------------------------------\n"
     ]
    },
    {
     "name": "stderr",
     "output_type": "stream",
     "text": [
      "                                                           \r"
     ]
    },
    {
     "name": "stdout",
     "output_type": "stream",
     "text": [
      "\n",
      "Epoch 14/50\n",
      "Train Loss: 0.0489 | Acc: 99.92%\n",
      "Val   Loss: 0.3400 | Acc: 90.26%\n",
      "LR: 5.00e-05\n",
      "--------------------------------------------------\n"
     ]
    },
    {
     "name": "stderr",
     "output_type": "stream",
     "text": [
      "                                                           "
     ]
    },
    {
     "name": "stdout",
     "output_type": "stream",
     "text": [
      "\n",
      "Epoch 15/50\n",
      "Train Loss: 0.0454 | Acc: 99.88%\n",
      "Val   Loss: 0.3330 | Acc: 90.43%\n",
      "LR: 5.00e-05\n",
      "--------------------------------------------------\n",
      "Early stopping at epoch 16\n"
     ]
    },
    {
     "name": "stderr",
     "output_type": "stream",
     "text": [
      "\r"
     ]
    },
    {
     "data": {
      "image/png": "[encoded data removed]",
      "text/plain": [
       "<Figure size 1200x500 with 2 Axes>"
      ]
     },
     "metadata": {},
     "output_type": "display_data"
    }
   ],
   "source": [
    "from models import Caltech101Classifier\n",
    "from train import Trainer, count_params\n",
    "\n",
    "model = Caltech101Classifier(arch='resnet18', pretrained=True)  # 加载ImageNet权重\n",
    "\n",
    "trainer = Trainer(\n",
    "    model=model,\n",
    "    mode='finetune',\n",
    "    lr=0.01,                 # 总体学习率\n",
    "    backbone_lr=0.0001,       # 主干网络较小学习率\n",
    "    head_lr=0.01,            # 分类头较大学习率\n",
    "    reg=1e-4,\n",
    "    step_size=10,\n",
    "    gamma=0.5,\n",
    "    patience=5,\n",
    "    momentum=0.9\n",
    ")\n",
    "\n",
    "# 4. 参数统计\n",
    "count_params(model)\n",
    "\n",
    "# 5. 开始训练\n",
    "trainer.train(train_loader, val_loader, epochs=50, save_path=\"checkpoints/finetune_resnet18_3.pth\")\n",
    "\n",
    "# 6. 可视化\n",
    "trainer.plot_learning_curve()"
   ]
  },
  {
   "cell_type": "markdown",
   "id": "19ce8a20",
   "metadata": {},
   "source": [
    "### 2a\n",
    "#### `step_size=10, gamma=0.5, backbone_lr=1e-3, head_lr=1e-2, patience=5, reg=1e-4`, data augmentation\n",
    "\n",
    "#### Train Acc=1.0, Val Acc=93.07%, epochs=16\n",
    "\n",
    "#### [TEST RESULT] Loss: 0.2594 | Accuracy: 91.85%"
   ]
  },
  {
   "cell_type": "code",
   "execution_count": 2,
   "id": "59a77595",
   "metadata": {},
   "outputs": [
    {
     "name": "stderr",
     "output_type": "stream",
     "text": [
      "d:\\APP\\Python\\Lib\\site-packages\\torchvision\\models\\_utils.py:208: UserWarning: The parameter 'pretrained' is deprecated since 0.13 and may be removed in the future, please use 'weights' instead.\n",
      "  warnings.warn(\n",
      "d:\\APP\\Python\\Lib\\site-packages\\torchvision\\models\\_utils.py:223: UserWarning: Arguments other than a weight enum or `None` for 'weights' are deprecated since 0.13 and may be removed in the future. The current behavior is equivalent to passing `weights=ResNet18_Weights.IMAGENET1K_V1`. You can also use `weights=ResNet18_Weights.DEFAULT` to get the most up-to-date weights.\n",
      "  warnings.warn(msg)\n"
     ]
    },
    {
     "name": "stdout",
     "output_type": "stream",
     "text": [
      "Total parameters: 11,228,325\n",
      "Trainable parameters: 11,228,325\n"
     ]
    },
    {
     "name": "stderr",
     "output_type": "stream",
     "text": [
      "                                                           \r"
     ]
    },
    {
     "name": "stdout",
     "output_type": "stream",
     "text": [
      "\n",
      "Epoch 1/50\n",
      "Train Loss: 2.7442 | Acc: 43.03%\n",
      "Val   Loss: 0.8161 | Acc: 82.67%\n",
      "LR: 1.00e-03\n",
      "--------------------------------------------------\n"
     ]
    },
    {
     "name": "stderr",
     "output_type": "stream",
     "text": [
      "                                                           \r"
     ]
    },
    {
     "name": "stdout",
     "output_type": "stream",
     "text": [
      "\n",
      "Epoch 2/50\n",
      "Train Loss: 0.5179 | Acc: 89.27%\n",
      "Val   Loss: 0.4859 | Acc: 88.45%\n",
      "LR: 1.00e-03\n",
      "--------------------------------------------------\n"
     ]
    },
    {
     "name": "stderr",
     "output_type": "stream",
     "text": [
      "                                                           \r"
     ]
    },
    {
     "name": "stdout",
     "output_type": "stream",
     "text": [
      "\n",
      "Epoch 3/50\n",
      "Train Loss: 0.2304 | Acc: 96.12%\n",
      "Val   Loss: 0.3675 | Acc: 91.09%\n",
      "LR: 1.00e-03\n",
      "--------------------------------------------------\n"
     ]
    },
    {
     "name": "stderr",
     "output_type": "stream",
     "text": [
      "                                                           \r"
     ]
    },
    {
     "name": "stdout",
     "output_type": "stream",
     "text": [
      "\n",
      "Epoch 4/50\n",
      "Train Loss: 0.1272 | Acc: 98.76%\n",
      "Val   Loss: 0.3294 | Acc: 91.58%\n",
      "LR: 1.00e-03\n",
      "--------------------------------------------------\n"
     ]
    },
    {
     "name": "stderr",
     "output_type": "stream",
     "text": [
      "                                                           \r"
     ]
    },
    {
     "name": "stdout",
     "output_type": "stream",
     "text": [
      "\n",
      "Epoch 5/50\n",
      "Train Loss: 0.0800 | Acc: 99.34%\n",
      "Val   Loss: 0.3050 | Acc: 91.91%\n",
      "LR: 1.00e-03\n",
      "--------------------------------------------------\n"
     ]
    },
    {
     "name": "stderr",
     "output_type": "stream",
     "text": [
      "                                                           \r"
     ]
    },
    {
     "name": "stdout",
     "output_type": "stream",
     "text": [
      "\n",
      "Epoch 6/50\n",
      "Train Loss: 0.0521 | Acc: 99.92%\n",
      "Val   Loss: 0.2992 | Acc: 91.58%\n",
      "LR: 1.00e-03\n",
      "--------------------------------------------------\n"
     ]
    },
    {
     "name": "stderr",
     "output_type": "stream",
     "text": [
      "                                                           \r"
     ]
    },
    {
     "name": "stdout",
     "output_type": "stream",
     "text": [
      "\n",
      "Epoch 7/50\n",
      "Train Loss: 0.0392 | Acc: 100.00%\n",
      "Val   Loss: 0.2904 | Acc: 91.91%\n",
      "LR: 1.00e-03\n",
      "--------------------------------------------------\n"
     ]
    },
    {
     "name": "stderr",
     "output_type": "stream",
     "text": [
      "                                                           \r"
     ]
    },
    {
     "name": "stdout",
     "output_type": "stream",
     "text": [
      "\n",
      "Epoch 8/50\n",
      "Train Loss: 0.0328 | Acc: 99.96%\n",
      "Val   Loss: 0.2796 | Acc: 92.24%\n",
      "LR: 1.00e-03\n",
      "--------------------------------------------------\n"
     ]
    },
    {
     "name": "stderr",
     "output_type": "stream",
     "text": [
      "                                                           \r"
     ]
    },
    {
     "name": "stdout",
     "output_type": "stream",
     "text": [
      "\n",
      "Epoch 9/50\n",
      "Train Loss: 0.0256 | Acc: 100.00%\n",
      "Val   Loss: 0.2715 | Acc: 92.57%\n",
      "LR: 1.00e-03\n",
      "--------------------------------------------------\n"
     ]
    },
    {
     "name": "stderr",
     "output_type": "stream",
     "text": [
      "                                                           \r"
     ]
    },
    {
     "name": "stdout",
     "output_type": "stream",
     "text": [
      "\n",
      "Epoch 10/50\n",
      "Train Loss: 0.0236 | Acc: 100.00%\n",
      "Val   Loss: 0.2705 | Acc: 92.41%\n",
      "LR: 1.00e-03\n",
      "--------------------------------------------------\n"
     ]
    },
    {
     "name": "stderr",
     "output_type": "stream",
     "text": [
      "                                                           \r"
     ]
    },
    {
     "name": "stdout",
     "output_type": "stream",
     "text": [
      "\n",
      "Epoch 11/50\n",
      "Train Loss: 0.0199 | Acc: 100.00%\n",
      "Val   Loss: 0.2783 | Acc: 93.07%\n",
      "LR: 5.00e-04\n",
      "--------------------------------------------------\n"
     ]
    },
    {
     "name": "stderr",
     "output_type": "stream",
     "text": [
      "                                                           \r"
     ]
    },
    {
     "name": "stdout",
     "output_type": "stream",
     "text": [
      "\n",
      "Epoch 12/50\n",
      "Train Loss: 0.0191 | Acc: 100.00%\n",
      "Val   Loss: 0.2648 | Acc: 92.24%\n",
      "LR: 5.00e-04\n",
      "--------------------------------------------------\n"
     ]
    },
    {
     "name": "stderr",
     "output_type": "stream",
     "text": [
      "                                                           \r"
     ]
    },
    {
     "name": "stdout",
     "output_type": "stream",
     "text": [
      "\n",
      "Epoch 13/50\n",
      "Train Loss: 0.0182 | Acc: 100.00%\n",
      "Val   Loss: 0.2648 | Acc: 92.41%\n",
      "LR: 5.00e-04\n",
      "--------------------------------------------------\n"
     ]
    },
    {
     "name": "stderr",
     "output_type": "stream",
     "text": [
      "                                                           \r"
     ]
    },
    {
     "name": "stdout",
     "output_type": "stream",
     "text": [
      "\n",
      "Epoch 14/50\n",
      "Train Loss: 0.0170 | Acc: 100.00%\n",
      "Val   Loss: 0.2636 | Acc: 92.24%\n",
      "LR: 5.00e-04\n",
      "--------------------------------------------------\n"
     ]
    },
    {
     "name": "stderr",
     "output_type": "stream",
     "text": [
      "                                                           \r"
     ]
    },
    {
     "name": "stdout",
     "output_type": "stream",
     "text": [
      "\n",
      "Epoch 15/50\n",
      "Train Loss: 0.0166 | Acc: 100.00%\n",
      "Val   Loss: 0.2631 | Acc: 92.74%\n",
      "LR: 5.00e-04\n",
      "--------------------------------------------------\n"
     ]
    },
    {
     "name": "stderr",
     "output_type": "stream",
     "text": [
      "                                                           \r"
     ]
    },
    {
     "name": "stdout",
     "output_type": "stream",
     "text": [
      "\n",
      "Epoch 16/50\n",
      "Train Loss: 0.0157 | Acc: 100.00%\n",
      "Val   Loss: 0.2598 | Acc: 92.24%\n",
      "LR: 5.00e-04\n",
      "--------------------------------------------------\n",
      "Early stopping at epoch 17\n"
     ]
    },
    {
     "data": {
      "image/png": "[encoded data removed]",
      "text/plain": [
       "<Figure size 1200x500 with 2 Axes>"
      ]
     },
     "metadata": {},
     "output_type": "display_data"
    }
   ],
   "source": [
    "from models import Caltech101Classifier\n",
    "from train import Trainer, count_params\n",
    "\n",
    "model = Caltech101Classifier(arch='resnet18', pretrained=True)  # 加载ImageNet权重\n",
    "\n",
    "trainer = Trainer(\n",
    "    model=model,\n",
    "    mode='finetune',\n",
    "    lr=0.01,                 # 总体学习率\n",
    "    backbone_lr=0.001,       # 主干网络较小学习率\n",
    "    head_lr=0.01,            # 分类头较大学习率\n",
    "    reg=1e-4,\n",
    "    step_size=10,\n",
    "    gamma=0.5,\n",
    "    patience=5,\n",
    "    momentum=0.9\n",
    ")\n",
    "\n",
    "# 4. 参数统计\n",
    "count_params(model)\n",
    "\n",
    "# 5. 开始训练\n",
    "trainer.train(train_loader, val_loader, epochs=50, save_path=\"checkpoints/finetune_resnet18_4.pth\")\n",
    "\n",
    "# 6. 可视化\n",
    "trainer.plot_learning_curve()"
   ]
  },
  {
   "cell_type": "markdown",
   "id": "2d053623",
   "metadata": {},
   "source": [
    "# 从头训练模式"
   ]
  },
  {
   "cell_type": "markdown",
   "id": "d562d399",
   "metadata": {},
   "source": [
    "### 1b\n",
    "#### `step_size=10, gamma=0.5, head_lr=0.01, patience=5, reg=1e-4`, data augmentation\n",
    "#### train acc=100%, val acc=49.17%, epochs=26\n",
    "#### [TEST RESULT] Loss: 1.7064 | Accuracy: 57.85%"
   ]
  },
  {
   "cell_type": "code",
   "execution_count": 9,
   "id": "05c0b4c3",
   "metadata": {},
   "outputs": [
    {
     "name": "stdout",
     "output_type": "stream",
     "text": [
      "Total parameters: 11,228,325\n",
      "Trainable parameters: 11,228,325\n"
     ]
    },
    {
     "name": "stderr",
     "output_type": "stream",
     "text": [
      "                                                           \r"
     ]
    },
    {
     "name": "stdout",
     "output_type": "stream",
     "text": [
      "\n",
      "Epoch 1/100\n",
      "Train Loss: 4.6957 | Acc: 2.64%\n",
      "Val   Loss: 5.3866 | Acc: 4.95%\n",
      "LR: 1.00e-02\n",
      "--------------------------------------------------\n"
     ]
    },
    {
     "name": "stderr",
     "output_type": "stream",
     "text": [
      "                                                           \r"
     ]
    },
    {
     "name": "stdout",
     "output_type": "stream",
     "text": [
      "\n",
      "Epoch 2/100\n",
      "Train Loss: 4.3098 | Acc: 6.85%\n",
      "Val   Loss: 4.3319 | Acc: 6.77%\n",
      "LR: 1.00e-02\n",
      "--------------------------------------------------\n"
     ]
    },
    {
     "name": "stderr",
     "output_type": "stream",
     "text": [
      "                                                           \r"
     ]
    },
    {
     "name": "stdout",
     "output_type": "stream",
     "text": [
      "\n",
      "Epoch 3/100\n",
      "Train Loss: 3.9365 | Acc: 12.42%\n",
      "Val   Loss: 4.3833 | Acc: 11.55%\n",
      "LR: 1.00e-02\n",
      "--------------------------------------------------\n"
     ]
    },
    {
     "name": "stderr",
     "output_type": "stream",
     "text": [
      "                                                           \r"
     ]
    },
    {
     "name": "stdout",
     "output_type": "stream",
     "text": [
      "\n",
      "Epoch 4/100\n",
      "Train Loss: 3.5125 | Acc: 19.35%\n",
      "Val   Loss: 3.6986 | Acc: 16.34%\n",
      "LR: 1.00e-02\n",
      "--------------------------------------------------\n"
     ]
    },
    {
     "name": "stderr",
     "output_type": "stream",
     "text": [
      "                                                           \r"
     ]
    },
    {
     "name": "stdout",
     "output_type": "stream",
     "text": [
      "\n",
      "Epoch 5/100\n",
      "Train Loss: 3.1148 | Acc: 25.25%\n",
      "Val   Loss: 3.6761 | Acc: 15.84%\n",
      "LR: 1.00e-02\n",
      "--------------------------------------------------\n"
     ]
    },
    {
     "name": "stderr",
     "output_type": "stream",
     "text": [
      "                                                           \r"
     ]
    },
    {
     "name": "stdout",
     "output_type": "stream",
     "text": [
      "\n",
      "Epoch 6/100\n",
      "Train Loss: 2.7835 | Acc: 32.05%\n",
      "Val   Loss: 3.5673 | Acc: 22.28%\n",
      "LR: 1.00e-02\n",
      "--------------------------------------------------\n"
     ]
    },
    {
     "name": "stderr",
     "output_type": "stream",
     "text": [
      "                                                           \r"
     ]
    },
    {
     "name": "stdout",
     "output_type": "stream",
     "text": [
      "\n",
      "Epoch 7/100\n",
      "Train Loss: 2.4326 | Acc: 37.75%\n",
      "Val   Loss: 4.5836 | Acc: 18.65%\n",
      "LR: 1.00e-02\n",
      "--------------------------------------------------\n"
     ]
    },
    {
     "name": "stderr",
     "output_type": "stream",
     "text": [
      "                                                           \r"
     ]
    },
    {
     "name": "stdout",
     "output_type": "stream",
     "text": [
      "\n",
      "Epoch 8/100\n",
      "Train Loss: 2.0610 | Acc: 47.48%\n",
      "Val   Loss: 3.1146 | Acc: 28.05%\n",
      "LR: 1.00e-02\n",
      "--------------------------------------------------\n"
     ]
    },
    {
     "name": "stderr",
     "output_type": "stream",
     "text": [
      "                                                           \r"
     ]
    },
    {
     "name": "stdout",
     "output_type": "stream",
     "text": [
      "\n",
      "Epoch 9/100\n",
      "Train Loss: 1.7867 | Acc: 52.85%\n",
      "Val   Loss: 2.8611 | Acc: 34.32%\n",
      "LR: 1.00e-02\n",
      "--------------------------------------------------\n"
     ]
    },
    {
     "name": "stderr",
     "output_type": "stream",
     "text": [
      "                                                           \r"
     ]
    },
    {
     "name": "stdout",
     "output_type": "stream",
     "text": [
      "\n",
      "Epoch 10/100\n",
      "Train Loss: 1.4342 | Acc: 61.59%\n",
      "Val   Loss: 3.1704 | Acc: 30.36%\n",
      "LR: 1.00e-02\n",
      "--------------------------------------------------\n"
     ]
    },
    {
     "name": "stderr",
     "output_type": "stream",
     "text": [
      "                                                           \r"
     ]
    },
    {
     "name": "stdout",
     "output_type": "stream",
     "text": [
      "\n",
      "Epoch 11/100\n",
      "Train Loss: 0.8244 | Acc: 81.44%\n",
      "Val   Loss: 2.3720 | Acc: 44.39%\n",
      "LR: 5.00e-03\n",
      "--------------------------------------------------\n"
     ]
    },
    {
     "name": "stderr",
     "output_type": "stream",
     "text": [
      "                                                           \r"
     ]
    },
    {
     "name": "stdout",
     "output_type": "stream",
     "text": [
      "\n",
      "Epoch 12/100\n",
      "Train Loss: 0.5430 | Acc: 90.64%\n",
      "Val   Loss: 2.2290 | Acc: 46.53%\n",
      "LR: 5.00e-03\n",
      "--------------------------------------------------\n"
     ]
    },
    {
     "name": "stderr",
     "output_type": "stream",
     "text": [
      "                                                           \r"
     ]
    },
    {
     "name": "stdout",
     "output_type": "stream",
     "text": [
      "\n",
      "Epoch 13/100\n",
      "Train Loss: 0.3840 | Acc: 94.14%\n",
      "Val   Loss: 2.3674 | Acc: 43.89%\n",
      "LR: 5.00e-03\n",
      "--------------------------------------------------\n"
     ]
    },
    {
     "name": "stderr",
     "output_type": "stream",
     "text": [
      "                                                           \r"
     ]
    },
    {
     "name": "stdout",
     "output_type": "stream",
     "text": [
      "\n",
      "Epoch 14/100\n",
      "Train Loss: 0.2606 | Acc: 97.73%\n",
      "Val   Loss: 2.2620 | Acc: 45.21%\n",
      "LR: 5.00e-03\n",
      "--------------------------------------------------\n"
     ]
    },
    {
     "name": "stderr",
     "output_type": "stream",
     "text": [
      "                                                           \r"
     ]
    },
    {
     "name": "stdout",
     "output_type": "stream",
     "text": [
      "\n",
      "Epoch 15/100\n",
      "Train Loss: 0.1742 | Acc: 98.80%\n",
      "Val   Loss: 2.2447 | Acc: 45.21%\n",
      "LR: 5.00e-03\n",
      "--------------------------------------------------\n"
     ]
    },
    {
     "name": "stderr",
     "output_type": "stream",
     "text": [
      "                                                           \r"
     ]
    },
    {
     "name": "stdout",
     "output_type": "stream",
     "text": [
      "\n",
      "Epoch 16/100\n",
      "Train Loss: 0.1206 | Acc: 99.71%\n",
      "Val   Loss: 2.1763 | Acc: 47.52%\n",
      "LR: 5.00e-03\n",
      "--------------------------------------------------\n"
     ]
    },
    {
     "name": "stderr",
     "output_type": "stream",
     "text": [
      "                                                           \r"
     ]
    },
    {
     "name": "stdout",
     "output_type": "stream",
     "text": [
      "\n",
      "Epoch 17/100\n",
      "Train Loss: 0.0825 | Acc: 99.88%\n",
      "Val   Loss: 2.1980 | Acc: 47.03%\n",
      "LR: 5.00e-03\n",
      "--------------------------------------------------\n"
     ]
    },
    {
     "name": "stderr",
     "output_type": "stream",
     "text": [
      "                                                           \r"
     ]
    },
    {
     "name": "stdout",
     "output_type": "stream",
     "text": [
      "\n",
      "Epoch 18/100\n",
      "Train Loss: 0.0642 | Acc: 99.92%\n",
      "Val   Loss: 2.1388 | Acc: 48.68%\n",
      "LR: 5.00e-03\n",
      "--------------------------------------------------\n"
     ]
    },
    {
     "name": "stderr",
     "output_type": "stream",
     "text": [
      "                                                           \r"
     ]
    },
    {
     "name": "stdout",
     "output_type": "stream",
     "text": [
      "\n",
      "Epoch 19/100\n",
      "Train Loss: 0.0516 | Acc: 99.96%\n",
      "Val   Loss: 2.1608 | Acc: 48.68%\n",
      "LR: 5.00e-03\n",
      "--------------------------------------------------\n"
     ]
    },
    {
     "name": "stderr",
     "output_type": "stream",
     "text": [
      "                                                           \r"
     ]
    },
    {
     "name": "stdout",
     "output_type": "stream",
     "text": [
      "\n",
      "Epoch 20/100\n",
      "Train Loss: 0.0411 | Acc: 99.96%\n",
      "Val   Loss: 2.1374 | Acc: 48.51%\n",
      "LR: 5.00e-03\n",
      "--------------------------------------------------\n"
     ]
    },
    {
     "name": "stderr",
     "output_type": "stream",
     "text": [
      "                                                           \r"
     ]
    },
    {
     "name": "stdout",
     "output_type": "stream",
     "text": [
      "\n",
      "Epoch 21/100\n",
      "Train Loss: 0.0336 | Acc: 100.00%\n",
      "Val   Loss: 2.1200 | Acc: 49.17%\n",
      "LR: 2.50e-03\n",
      "--------------------------------------------------\n"
     ]
    },
    {
     "name": "stderr",
     "output_type": "stream",
     "text": [
      "                                                           \r"
     ]
    },
    {
     "name": "stdout",
     "output_type": "stream",
     "text": [
      "\n",
      "Epoch 22/100\n",
      "Train Loss: 0.0329 | Acc: 100.00%\n",
      "Val   Loss: 2.1332 | Acc: 47.69%\n",
      "LR: 2.50e-03\n",
      "--------------------------------------------------\n"
     ]
    },
    {
     "name": "stderr",
     "output_type": "stream",
     "text": [
      "                                                           \r"
     ]
    },
    {
     "name": "stdout",
     "output_type": "stream",
     "text": [
      "\n",
      "Epoch 23/100\n",
      "Train Loss: 0.0286 | Acc: 100.00%\n",
      "Val   Loss: 2.1241 | Acc: 48.51%\n",
      "LR: 2.50e-03\n",
      "--------------------------------------------------\n"
     ]
    },
    {
     "name": "stderr",
     "output_type": "stream",
     "text": [
      "                                                           \r"
     ]
    },
    {
     "name": "stdout",
     "output_type": "stream",
     "text": [
      "\n",
      "Epoch 24/100\n",
      "Train Loss: 0.0275 | Acc: 100.00%\n",
      "Val   Loss: 2.1019 | Acc: 49.17%\n",
      "LR: 2.50e-03\n",
      "--------------------------------------------------\n"
     ]
    },
    {
     "name": "stderr",
     "output_type": "stream",
     "text": [
      "                                                           \r"
     ]
    },
    {
     "name": "stdout",
     "output_type": "stream",
     "text": [
      "\n",
      "Epoch 25/100\n",
      "Train Loss: 0.0265 | Acc: 100.00%\n",
      "Val   Loss: 2.1258 | Acc: 48.84%\n",
      "LR: 2.50e-03\n",
      "--------------------------------------------------\n"
     ]
    },
    {
     "name": "stderr",
     "output_type": "stream",
     "text": [
      "                                                           "
     ]
    },
    {
     "name": "stdout",
     "output_type": "stream",
     "text": [
      "\n",
      "Epoch 26/100\n",
      "Train Loss: 0.0259 | Acc: 99.96%\n",
      "Val   Loss: 2.1243 | Acc: 48.84%\n",
      "LR: 2.50e-03\n",
      "--------------------------------------------------\n",
      "Early stopping at epoch 27\n"
     ]
    },
    {
     "name": "stderr",
     "output_type": "stream",
     "text": [
      "\r"
     ]
    },
    {
     "data": {
      "image/png": "[encoded data removed]",
      "text/plain": [
       "<Figure size 1200x500 with 2 Axes>"
      ]
     },
     "metadata": {},
     "output_type": "display_data"
    }
   ],
   "source": [
    "from models import Caltech101Classifier\n",
    "from train import Trainer, count_params\n",
    "\n",
    "model = Caltech101Classifier(arch='resnet18', pretrained=False)  # 加载ImageNet权重\n",
    "\n",
    "trainer = Trainer(\n",
    "    model=model,\n",
    "    mode='scratch',\n",
    "    lr=0.01,                 # 总体学习率\n",
    "    reg=1e-4,\n",
    "    step_size=10,\n",
    "    gamma=0.5,\n",
    "    patience=5,\n",
    "    momentum=0.9\n",
    ")\n",
    "\n",
    "# 4. 参数统计\n",
    "count_params(model)\n",
    "\n",
    "# 5. 开始训练\n",
    "trainer.train(train_loader, val_loader, epochs=100, save_path=\"checkpoints/scratch_resnet18.pth\")\n",
    "\n",
    "# 6. 可视化\n",
    "trainer.plot_learning_curve()\n"
   ]
  },
  {
   "cell_type": "markdown",
   "id": "6352c873",
   "metadata": {},
   "source": [
    "### 2b\n",
    "#### `step_size=10, gamma=0.5, lr=0.1, patience=5, reg=1e-4, epochs=100`, data augmentation\n",
    "#### train acc=100%, val acc=50.33%, epochs=43\n",
    "#### [TEST RESULT] Loss: 1.8771 | Accuracy: 58.47%"
   ]
  },
  {
   "cell_type": "code",
   "execution_count": 10,
   "id": "309fe0ad",
   "metadata": {},
   "outputs": [
    {
     "name": "stdout",
     "output_type": "stream",
     "text": [
      "Total parameters: 11,228,325\n",
      "Trainable parameters: 11,228,325\n"
     ]
    },
    {
     "name": "stderr",
     "output_type": "stream",
     "text": [
      "                                                           \r"
     ]
    },
    {
     "name": "stdout",
     "output_type": "stream",
     "text": [
      "\n",
      "Epoch 1/100\n",
      "Train Loss: 5.1708 | Acc: 0.83%\n",
      "Val   Loss: 4.6032 | Acc: 0.99%\n",
      "LR: 1.00e-01\n",
      "--------------------------------------------------\n"
     ]
    },
    {
     "name": "stderr",
     "output_type": "stream",
     "text": [
      "                                                           \r"
     ]
    },
    {
     "name": "stdout",
     "output_type": "stream",
     "text": [
      "\n",
      "Epoch 2/100\n",
      "Train Loss: 4.5379 | Acc: 2.81%\n",
      "Val   Loss: 4.4421 | Acc: 2.48%\n",
      "LR: 1.00e-01\n",
      "--------------------------------------------------\n"
     ]
    },
    {
     "name": "stderr",
     "output_type": "stream",
     "text": [
      "                                                           \r"
     ]
    },
    {
     "name": "stdout",
     "output_type": "stream",
     "text": [
      "\n",
      "Epoch 3/100\n",
      "Train Loss: 4.4104 | Acc: 3.96%\n",
      "Val   Loss: 4.4252 | Acc: 3.14%\n",
      "LR: 1.00e-01\n",
      "--------------------------------------------------\n"
     ]
    },
    {
     "name": "stderr",
     "output_type": "stream",
     "text": [
      "                                                           \r"
     ]
    },
    {
     "name": "stdout",
     "output_type": "stream",
     "text": [
      "\n",
      "Epoch 4/100\n",
      "Train Loss: 4.3062 | Acc: 4.99%\n",
      "Val   Loss: 4.3379 | Acc: 6.11%\n",
      "LR: 1.00e-01\n",
      "--------------------------------------------------\n"
     ]
    },
    {
     "name": "stderr",
     "output_type": "stream",
     "text": [
      "                                                           \r"
     ]
    },
    {
     "name": "stdout",
     "output_type": "stream",
     "text": [
      "\n",
      "Epoch 5/100\n",
      "Train Loss: 4.2142 | Acc: 6.11%\n",
      "Val   Loss: 4.2949 | Acc: 7.76%\n",
      "LR: 1.00e-01\n",
      "--------------------------------------------------\n"
     ]
    },
    {
     "name": "stderr",
     "output_type": "stream",
     "text": [
      "                                                           \r"
     ]
    },
    {
     "name": "stdout",
     "output_type": "stream",
     "text": [
      "\n",
      "Epoch 6/100\n",
      "Train Loss: 4.1238 | Acc: 8.46%\n",
      "Val   Loss: 4.1850 | Acc: 7.26%\n",
      "LR: 1.00e-01\n",
      "--------------------------------------------------\n"
     ]
    },
    {
     "name": "stderr",
     "output_type": "stream",
     "text": [
      "                                                           \r"
     ]
    },
    {
     "name": "stdout",
     "output_type": "stream",
     "text": [
      "\n",
      "Epoch 7/100\n",
      "Train Loss: 3.9994 | Acc: 9.41%\n",
      "Val   Loss: 4.1403 | Acc: 8.09%\n",
      "LR: 1.00e-01\n",
      "--------------------------------------------------\n"
     ]
    },
    {
     "name": "stderr",
     "output_type": "stream",
     "text": [
      "                                                           \r"
     ]
    },
    {
     "name": "stdout",
     "output_type": "stream",
     "text": [
      "\n",
      "Epoch 8/100\n",
      "Train Loss: 3.8747 | Acc: 11.14%\n",
      "Val   Loss: 4.0162 | Acc: 12.05%\n",
      "LR: 1.00e-01\n",
      "--------------------------------------------------\n"
     ]
    },
    {
     "name": "stderr",
     "output_type": "stream",
     "text": [
      "                                                           \r"
     ]
    },
    {
     "name": "stdout",
     "output_type": "stream",
     "text": [
      "\n",
      "Epoch 9/100\n",
      "Train Loss: 3.6947 | Acc: 14.44%\n",
      "Val   Loss: 3.9102 | Acc: 11.39%\n",
      "LR: 1.00e-01\n",
      "--------------------------------------------------\n"
     ]
    },
    {
     "name": "stderr",
     "output_type": "stream",
     "text": [
      "                                                           \r"
     ]
    },
    {
     "name": "stdout",
     "output_type": "stream",
     "text": [
      "\n",
      "Epoch 10/100\n",
      "Train Loss: 3.4676 | Acc: 17.41%\n",
      "Val   Loss: 3.6783 | Acc: 17.82%\n",
      "LR: 1.00e-01\n",
      "--------------------------------------------------\n"
     ]
    },
    {
     "name": "stderr",
     "output_type": "stream",
     "text": [
      "                                                           \r"
     ]
    },
    {
     "name": "stdout",
     "output_type": "stream",
     "text": [
      "\n",
      "Epoch 11/100\n",
      "Train Loss: 2.9758 | Acc: 27.35%\n",
      "Val   Loss: 3.2499 | Acc: 24.92%\n",
      "LR: 5.00e-02\n",
      "--------------------------------------------------\n"
     ]
    },
    {
     "name": "stderr",
     "output_type": "stream",
     "text": [
      "                                                           \r"
     ]
    },
    {
     "name": "stdout",
     "output_type": "stream",
     "text": [
      "\n",
      "Epoch 12/100\n",
      "Train Loss: 2.6675 | Acc: 33.75%\n",
      "Val   Loss: 3.3334 | Acc: 24.92%\n",
      "LR: 5.00e-02\n",
      "--------------------------------------------------\n"
     ]
    },
    {
     "name": "stderr",
     "output_type": "stream",
     "text": [
      "                                                           \r"
     ]
    },
    {
     "name": "stdout",
     "output_type": "stream",
     "text": [
      "\n",
      "Epoch 13/100\n",
      "Train Loss: 2.4318 | Acc: 38.86%\n",
      "Val   Loss: 3.0638 | Acc: 26.40%\n",
      "LR: 5.00e-02\n",
      "--------------------------------------------------\n"
     ]
    },
    {
     "name": "stderr",
     "output_type": "stream",
     "text": [
      "                                                           \r"
     ]
    },
    {
     "name": "stdout",
     "output_type": "stream",
     "text": [
      "\n",
      "Epoch 14/100\n",
      "Train Loss: 2.2185 | Acc: 43.23%\n",
      "Val   Loss: 3.1402 | Acc: 27.23%\n",
      "LR: 5.00e-02\n",
      "--------------------------------------------------\n"
     ]
    },
    {
     "name": "stderr",
     "output_type": "stream",
     "text": [
      "                                                           \r"
     ]
    },
    {
     "name": "stdout",
     "output_type": "stream",
     "text": [
      "\n",
      "Epoch 15/100\n",
      "Train Loss: 1.9947 | Acc: 46.95%\n",
      "Val   Loss: 3.3639 | Acc: 26.57%\n",
      "LR: 5.00e-02\n",
      "--------------------------------------------------\n"
     ]
    },
    {
     "name": "stderr",
     "output_type": "stream",
     "text": [
      "                                                           \r"
     ]
    },
    {
     "name": "stdout",
     "output_type": "stream",
     "text": [
      "\n",
      "Epoch 16/100\n",
      "Train Loss: 1.7291 | Acc: 53.88%\n",
      "Val   Loss: 3.0109 | Acc: 32.67%\n",
      "LR: 5.00e-02\n",
      "--------------------------------------------------\n"
     ]
    },
    {
     "name": "stderr",
     "output_type": "stream",
     "text": [
      "                                                           \r"
     ]
    },
    {
     "name": "stdout",
     "output_type": "stream",
     "text": [
      "\n",
      "Epoch 17/100\n",
      "Train Loss: 1.4499 | Acc: 60.56%\n",
      "Val   Loss: 3.0776 | Acc: 32.34%\n",
      "LR: 5.00e-02\n",
      "--------------------------------------------------\n"
     ]
    },
    {
     "name": "stderr",
     "output_type": "stream",
     "text": [
      "                                                           \r"
     ]
    },
    {
     "name": "stdout",
     "output_type": "stream",
     "text": [
      "\n",
      "Epoch 18/100\n",
      "Train Loss: 1.1316 | Acc: 69.02%\n",
      "Val   Loss: 3.0601 | Acc: 37.62%\n",
      "LR: 5.00e-02\n",
      "--------------------------------------------------\n"
     ]
    },
    {
     "name": "stderr",
     "output_type": "stream",
     "text": [
      "                                                           \r"
     ]
    },
    {
     "name": "stdout",
     "output_type": "stream",
     "text": [
      "\n",
      "Epoch 19/100\n",
      "Train Loss: 0.9702 | Acc: 72.90%\n",
      "Val   Loss: 3.2630 | Acc: 35.64%\n",
      "LR: 5.00e-02\n",
      "--------------------------------------------------\n"
     ]
    },
    {
     "name": "stderr",
     "output_type": "stream",
     "text": [
      "                                                           \r"
     ]
    },
    {
     "name": "stdout",
     "output_type": "stream",
     "text": [
      "\n",
      "Epoch 20/100\n",
      "Train Loss: 0.6995 | Acc: 80.73%\n",
      "Val   Loss: 3.6485 | Acc: 33.50%\n",
      "LR: 5.00e-02\n",
      "--------------------------------------------------\n"
     ]
    },
    {
     "name": "stderr",
     "output_type": "stream",
     "text": [
      "                                                           \r"
     ]
    },
    {
     "name": "stdout",
     "output_type": "stream",
     "text": [
      "\n",
      "Epoch 21/100\n",
      "Train Loss: 0.3188 | Acc: 92.16%\n",
      "Val   Loss: 2.4651 | Acc: 46.70%\n",
      "LR: 2.50e-02\n",
      "--------------------------------------------------\n"
     ]
    },
    {
     "name": "stderr",
     "output_type": "stream",
     "text": [
      "                                                           \r"
     ]
    },
    {
     "name": "stdout",
     "output_type": "stream",
     "text": [
      "\n",
      "Epoch 22/100\n",
      "Train Loss: 0.1328 | Acc: 97.77%\n",
      "Val   Loss: 2.4902 | Acc: 43.56%\n",
      "LR: 2.50e-02\n",
      "--------------------------------------------------\n"
     ]
    },
    {
     "name": "stderr",
     "output_type": "stream",
     "text": [
      "                                                           \r"
     ]
    },
    {
     "name": "stdout",
     "output_type": "stream",
     "text": [
      "\n",
      "Epoch 23/100\n",
      "Train Loss: 0.0744 | Acc: 99.50%\n",
      "Val   Loss: 2.4342 | Acc: 47.36%\n",
      "LR: 2.50e-02\n",
      "--------------------------------------------------\n"
     ]
    },
    {
     "name": "stderr",
     "output_type": "stream",
     "text": [
      "                                                           \r"
     ]
    },
    {
     "name": "stdout",
     "output_type": "stream",
     "text": [
      "\n",
      "Epoch 24/100\n",
      "Train Loss: 0.0448 | Acc: 99.79%\n",
      "Val   Loss: 2.4276 | Acc: 46.70%\n",
      "LR: 2.50e-02\n",
      "--------------------------------------------------\n"
     ]
    },
    {
     "name": "stderr",
     "output_type": "stream",
     "text": [
      "                                                           \r"
     ]
    },
    {
     "name": "stdout",
     "output_type": "stream",
     "text": [
      "\n",
      "Epoch 25/100\n",
      "Train Loss: 0.0324 | Acc: 99.92%\n",
      "Val   Loss: 2.4205 | Acc: 47.52%\n",
      "LR: 2.50e-02\n",
      "--------------------------------------------------\n"
     ]
    },
    {
     "name": "stderr",
     "output_type": "stream",
     "text": [
      "                                                           \r"
     ]
    },
    {
     "name": "stdout",
     "output_type": "stream",
     "text": [
      "\n",
      "Epoch 26/100\n",
      "Train Loss: 0.0228 | Acc: 100.00%\n",
      "Val   Loss: 2.3978 | Acc: 48.18%\n",
      "LR: 2.50e-02\n",
      "--------------------------------------------------\n"
     ]
    },
    {
     "name": "stderr",
     "output_type": "stream",
     "text": [
      "                                                           \r"
     ]
    },
    {
     "name": "stdout",
     "output_type": "stream",
     "text": [
      "\n",
      "Epoch 27/100\n",
      "Train Loss: 0.0205 | Acc: 100.00%\n",
      "Val   Loss: 2.4413 | Acc: 48.35%\n",
      "LR: 2.50e-02\n",
      "--------------------------------------------------\n"
     ]
    },
    {
     "name": "stderr",
     "output_type": "stream",
     "text": [
      "                                                           \r"
     ]
    },
    {
     "name": "stdout",
     "output_type": "stream",
     "text": [
      "\n",
      "Epoch 28/100\n",
      "Train Loss: 0.0165 | Acc: 100.00%\n",
      "Val   Loss: 2.4191 | Acc: 49.17%\n",
      "LR: 2.50e-02\n",
      "--------------------------------------------------\n"
     ]
    },
    {
     "name": "stderr",
     "output_type": "stream",
     "text": [
      "                                                           \r"
     ]
    },
    {
     "name": "stdout",
     "output_type": "stream",
     "text": [
      "\n",
      "Epoch 29/100\n",
      "Train Loss: 0.0135 | Acc: 100.00%\n",
      "Val   Loss: 2.3940 | Acc: 49.01%\n",
      "LR: 2.50e-02\n",
      "--------------------------------------------------\n"
     ]
    },
    {
     "name": "stderr",
     "output_type": "stream",
     "text": [
      "                                                           \r"
     ]
    },
    {
     "name": "stdout",
     "output_type": "stream",
     "text": [
      "\n",
      "Epoch 30/100\n",
      "Train Loss: 0.0115 | Acc: 100.00%\n",
      "Val   Loss: 2.4164 | Acc: 48.51%\n",
      "LR: 2.50e-02\n",
      "--------------------------------------------------\n"
     ]
    },
    {
     "name": "stderr",
     "output_type": "stream",
     "text": [
      "                                                           \r"
     ]
    },
    {
     "name": "stdout",
     "output_type": "stream",
     "text": [
      "\n",
      "Epoch 31/100\n",
      "Train Loss: 0.0105 | Acc: 100.00%\n",
      "Val   Loss: 2.4179 | Acc: 48.18%\n",
      "LR: 1.25e-02\n",
      "--------------------------------------------------\n"
     ]
    },
    {
     "name": "stderr",
     "output_type": "stream",
     "text": [
      "                                                           \r"
     ]
    },
    {
     "name": "stdout",
     "output_type": "stream",
     "text": [
      "\n",
      "Epoch 32/100\n",
      "Train Loss: 0.0102 | Acc: 100.00%\n",
      "Val   Loss: 2.4320 | Acc: 48.84%\n",
      "LR: 1.25e-02\n",
      "--------------------------------------------------\n"
     ]
    },
    {
     "name": "stderr",
     "output_type": "stream",
     "text": [
      "                                                           \r"
     ]
    },
    {
     "name": "stdout",
     "output_type": "stream",
     "text": [
      "\n",
      "Epoch 33/100\n",
      "Train Loss: 0.0106 | Acc: 99.96%\n",
      "Val   Loss: 2.4116 | Acc: 49.50%\n",
      "LR: 1.25e-02\n",
      "--------------------------------------------------\n"
     ]
    },
    {
     "name": "stderr",
     "output_type": "stream",
     "text": [
      "                                                           \r"
     ]
    },
    {
     "name": "stdout",
     "output_type": "stream",
     "text": [
      "\n",
      "Epoch 34/100\n",
      "Train Loss: 0.0097 | Acc: 99.96%\n",
      "Val   Loss: 2.4103 | Acc: 47.36%\n",
      "LR: 1.25e-02\n",
      "--------------------------------------------------\n"
     ]
    },
    {
     "name": "stderr",
     "output_type": "stream",
     "text": [
      "                                                           \r"
     ]
    },
    {
     "name": "stdout",
     "output_type": "stream",
     "text": [
      "\n",
      "Epoch 35/100\n",
      "Train Loss: 0.0088 | Acc: 100.00%\n",
      "Val   Loss: 2.4090 | Acc: 48.18%\n",
      "LR: 1.25e-02\n",
      "--------------------------------------------------\n"
     ]
    },
    {
     "name": "stderr",
     "output_type": "stream",
     "text": [
      "                                                           \r"
     ]
    },
    {
     "name": "stdout",
     "output_type": "stream",
     "text": [
      "\n",
      "Epoch 36/100\n",
      "Train Loss: 0.0085 | Acc: 100.00%\n",
      "Val   Loss: 2.3929 | Acc: 48.35%\n",
      "LR: 1.25e-02\n",
      "--------------------------------------------------\n"
     ]
    },
    {
     "name": "stderr",
     "output_type": "stream",
     "text": [
      "                                                           \r"
     ]
    },
    {
     "name": "stdout",
     "output_type": "stream",
     "text": [
      "\n",
      "Epoch 37/100\n",
      "Train Loss: 0.0081 | Acc: 100.00%\n",
      "Val   Loss: 2.4289 | Acc: 49.01%\n",
      "LR: 1.25e-02\n",
      "--------------------------------------------------\n"
     ]
    },
    {
     "name": "stderr",
     "output_type": "stream",
     "text": [
      "                                                           \r"
     ]
    },
    {
     "name": "stdout",
     "output_type": "stream",
     "text": [
      "\n",
      "Epoch 38/100\n",
      "Train Loss: 0.0072 | Acc: 100.00%\n",
      "Val   Loss: 2.4199 | Acc: 50.33%\n",
      "LR: 1.25e-02\n",
      "--------------------------------------------------\n"
     ]
    },
    {
     "name": "stderr",
     "output_type": "stream",
     "text": [
      "                                                           \r"
     ]
    },
    {
     "name": "stdout",
     "output_type": "stream",
     "text": [
      "\n",
      "Epoch 39/100\n",
      "Train Loss: 0.0075 | Acc: 100.00%\n",
      "Val   Loss: 2.4161 | Acc: 49.34%\n",
      "LR: 1.25e-02\n",
      "--------------------------------------------------\n"
     ]
    },
    {
     "name": "stderr",
     "output_type": "stream",
     "text": [
      "                                                           \r"
     ]
    },
    {
     "name": "stdout",
     "output_type": "stream",
     "text": [
      "\n",
      "Epoch 40/100\n",
      "Train Loss: 0.0070 | Acc: 100.00%\n",
      "Val   Loss: 2.4267 | Acc: 49.01%\n",
      "LR: 1.25e-02\n",
      "--------------------------------------------------\n"
     ]
    },
    {
     "name": "stderr",
     "output_type": "stream",
     "text": [
      "                                                           \r"
     ]
    },
    {
     "name": "stdout",
     "output_type": "stream",
     "text": [
      "\n",
      "Epoch 41/100\n",
      "Train Loss: 0.0068 | Acc: 100.00%\n",
      "Val   Loss: 2.4141 | Acc: 48.84%\n",
      "LR: 6.25e-03\n",
      "--------------------------------------------------\n"
     ]
    },
    {
     "name": "stderr",
     "output_type": "stream",
     "text": [
      "                                                           \r"
     ]
    },
    {
     "name": "stdout",
     "output_type": "stream",
     "text": [
      "\n",
      "Epoch 42/100\n",
      "Train Loss: 0.0073 | Acc: 100.00%\n",
      "Val   Loss: 2.4183 | Acc: 48.51%\n",
      "LR: 6.25e-03\n",
      "--------------------------------------------------\n"
     ]
    },
    {
     "name": "stderr",
     "output_type": "stream",
     "text": [
      "                                                           \r"
     ]
    },
    {
     "name": "stdout",
     "output_type": "stream",
     "text": [
      "\n",
      "Epoch 43/100\n",
      "Train Loss: 0.0065 | Acc: 100.00%\n",
      "Val   Loss: 2.4199 | Acc: 49.83%\n",
      "LR: 6.25e-03\n",
      "--------------------------------------------------\n",
      "Early stopping at epoch 44\n"
     ]
    },
    {
     "data": {
      "image/png": "[encoded data removed]",
      "text/plain": [
       "<Figure size 1200x500 with 2 Axes>"
      ]
     },
     "metadata": {},
     "output_type": "display_data"
    }
   ],
   "source": [
    "from models import Caltech101Classifier\n",
    "from train import Trainer, count_params\n",
    "\n",
    "model = Caltech101Classifier(arch='resnet18', pretrained=False)  # 加载ImageNet权重\n",
    "\n",
    "trainer = Trainer(\n",
    "    model=model,\n",
    "    mode='scratch',\n",
    "    lr=0.1,                 # 总体学习率\n",
    "    reg=1e-4,\n",
    "    step_size=10,\n",
    "    gamma=0.5,\n",
    "    patience=5,\n",
    "    momentum=0.9\n",
    ")\n",
    "\n",
    "# 4. 参数统计\n",
    "count_params(model)\n",
    "\n",
    "# 5. 开始训练\n",
    "trainer.train(train_loader, val_loader, epochs=100, save_path=\"checkpoints/scratch_resnet18_1.pth\")\n",
    "\n",
    "# 6. 可视化\n",
    "trainer.plot_learning_curve()"
   ]
  },
  {
   "cell_type": "markdown",
   "id": "f463b626",
   "metadata": {},
   "source": [
    "### 3b\n",
    "#### `step_size=10, gamma=0.5, lr=0.1, patience=5, reg=1e-3, epochs=100`, data augmentation\n",
    "#### train acc=100%, val acc=53.30%, epochs=43\n",
    "#### test acc=60.35%"
   ]
  },
  {
   "cell_type": "code",
   "execution_count": 4,
   "id": "86f19cb9",
   "metadata": {},
   "outputs": [
    {
     "name": "stderr",
     "output_type": "stream",
     "text": [
      "d:\\APP\\Python\\Lib\\site-packages\\torchvision\\models\\_utils.py:208: UserWarning: The parameter 'pretrained' is deprecated since 0.13 and may be removed in the future, please use 'weights' instead.\n",
      "  warnings.warn(\n",
      "d:\\APP\\Python\\Lib\\site-packages\\torchvision\\models\\_utils.py:223: UserWarning: Arguments other than a weight enum or `None` for 'weights' are deprecated since 0.13 and may be removed in the future. The current behavior is equivalent to passing `weights=None`.\n",
      "  warnings.warn(msg)\n"
     ]
    },
    {
     "name": "stdout",
     "output_type": "stream",
     "text": [
      "Total parameters: 11,228,325\n",
      "Trainable parameters: 11,228,325\n"
     ]
    },
    {
     "name": "stderr",
     "output_type": "stream",
     "text": [
      "                                                           \r"
     ]
    },
    {
     "name": "stdout",
     "output_type": "stream",
     "text": [
      "\n",
      "Epoch 1/100\n",
      "Train Loss: 5.2492 | Acc: 1.03%\n",
      "Val   Loss: 4.6089 | Acc: 1.82%\n",
      "LR: 1.00e-01\n",
      "--------------------------------------------------\n"
     ]
    },
    {
     "name": "stderr",
     "output_type": "stream",
     "text": [
      "                                                           \r"
     ]
    },
    {
     "name": "stdout",
     "output_type": "stream",
     "text": [
      "\n",
      "Epoch 2/100\n",
      "Train Loss: 4.5572 | Acc: 2.56%\n",
      "Val   Loss: 4.4935 | Acc: 1.65%\n",
      "LR: 1.00e-01\n",
      "--------------------------------------------------\n"
     ]
    },
    {
     "name": "stderr",
     "output_type": "stream",
     "text": [
      "                                                           \r"
     ]
    },
    {
     "name": "stdout",
     "output_type": "stream",
     "text": [
      "\n",
      "Epoch 3/100\n",
      "Train Loss: 4.4313 | Acc: 3.67%\n",
      "Val   Loss: 4.3967 | Acc: 4.79%\n",
      "LR: 1.00e-01\n",
      "--------------------------------------------------\n"
     ]
    },
    {
     "name": "stderr",
     "output_type": "stream",
     "text": [
      "                                                           \r"
     ]
    },
    {
     "name": "stdout",
     "output_type": "stream",
     "text": [
      "\n",
      "Epoch 4/100\n",
      "Train Loss: 4.2925 | Acc: 5.53%\n",
      "Val   Loss: 4.3857 | Acc: 4.13%\n",
      "LR: 1.00e-01\n",
      "--------------------------------------------------\n"
     ]
    },
    {
     "name": "stderr",
     "output_type": "stream",
     "text": [
      "                                                           \r"
     ]
    },
    {
     "name": "stdout",
     "output_type": "stream",
     "text": [
      "\n",
      "Epoch 5/100\n",
      "Train Loss: 4.2153 | Acc: 5.45%\n",
      "Val   Loss: 4.3321 | Acc: 5.28%\n",
      "LR: 1.00e-01\n",
      "--------------------------------------------------\n"
     ]
    },
    {
     "name": "stderr",
     "output_type": "stream",
     "text": [
      "                                                           \r"
     ]
    },
    {
     "name": "stdout",
     "output_type": "stream",
     "text": [
      "\n",
      "Epoch 6/100\n",
      "Train Loss: 4.1171 | Acc: 7.96%\n",
      "Val   Loss: 4.1856 | Acc: 7.26%\n",
      "LR: 1.00e-01\n",
      "--------------------------------------------------\n"
     ]
    },
    {
     "name": "stderr",
     "output_type": "stream",
     "text": [
      "                                                           \r"
     ]
    },
    {
     "name": "stdout",
     "output_type": "stream",
     "text": [
      "\n",
      "Epoch 7/100\n",
      "Train Loss: 4.0270 | Acc: 8.21%\n",
      "Val   Loss: 4.0916 | Acc: 9.24%\n",
      "LR: 1.00e-01\n",
      "--------------------------------------------------\n"
     ]
    },
    {
     "name": "stderr",
     "output_type": "stream",
     "text": [
      "                                                           \r"
     ]
    },
    {
     "name": "stdout",
     "output_type": "stream",
     "text": [
      "\n",
      "Epoch 8/100\n",
      "Train Loss: 3.8588 | Acc: 11.30%\n",
      "Val   Loss: 4.0672 | Acc: 10.07%\n",
      "LR: 1.00e-01\n",
      "--------------------------------------------------\n"
     ]
    },
    {
     "name": "stderr",
     "output_type": "stream",
     "text": [
      "                                                           \r"
     ]
    },
    {
     "name": "stdout",
     "output_type": "stream",
     "text": [
      "\n",
      "Epoch 9/100\n",
      "Train Loss: 3.6709 | Acc: 14.93%\n",
      "Val   Loss: 3.9085 | Acc: 13.70%\n",
      "LR: 1.00e-01\n",
      "--------------------------------------------------\n"
     ]
    },
    {
     "name": "stderr",
     "output_type": "stream",
     "text": [
      "                                                           \r"
     ]
    },
    {
     "name": "stdout",
     "output_type": "stream",
     "text": [
      "\n",
      "Epoch 10/100\n",
      "Train Loss: 3.4585 | Acc: 17.86%\n",
      "Val   Loss: 3.7563 | Acc: 14.69%\n",
      "LR: 1.00e-01\n",
      "--------------------------------------------------\n"
     ]
    },
    {
     "name": "stderr",
     "output_type": "stream",
     "text": [
      "                                                           \r"
     ]
    },
    {
     "name": "stdout",
     "output_type": "stream",
     "text": [
      "\n",
      "Epoch 11/100\n",
      "Train Loss: 2.9972 | Acc: 27.31%\n",
      "Val   Loss: 3.3559 | Acc: 22.61%\n",
      "LR: 5.00e-02\n",
      "--------------------------------------------------\n"
     ]
    },
    {
     "name": "stderr",
     "output_type": "stream",
     "text": [
      "                                                           \r"
     ]
    },
    {
     "name": "stdout",
     "output_type": "stream",
     "text": [
      "\n",
      "Epoch 12/100\n",
      "Train Loss: 2.7828 | Acc: 32.05%\n",
      "Val   Loss: 3.4826 | Acc: 20.46%\n",
      "LR: 5.00e-02\n",
      "--------------------------------------------------\n"
     ]
    },
    {
     "name": "stderr",
     "output_type": "stream",
     "text": [
      "                                                           \r"
     ]
    },
    {
     "name": "stdout",
     "output_type": "stream",
     "text": [
      "\n",
      "Epoch 13/100\n",
      "Train Loss: 2.6168 | Acc: 34.86%\n",
      "Val   Loss: 3.0143 | Acc: 29.04%\n",
      "LR: 5.00e-02\n",
      "--------------------------------------------------\n"
     ]
    },
    {
     "name": "stderr",
     "output_type": "stream",
     "text": [
      "                                                           \r"
     ]
    },
    {
     "name": "stdout",
     "output_type": "stream",
     "text": [
      "\n",
      "Epoch 14/100\n",
      "Train Loss: 2.3761 | Acc: 40.35%\n",
      "Val   Loss: 2.9045 | Acc: 29.54%\n",
      "LR: 5.00e-02\n",
      "--------------------------------------------------\n"
     ]
    },
    {
     "name": "stderr",
     "output_type": "stream",
     "text": [
      "                                                           \r"
     ]
    },
    {
     "name": "stdout",
     "output_type": "stream",
     "text": [
      "\n",
      "Epoch 15/100\n",
      "Train Loss: 2.1586 | Acc: 43.69%\n",
      "Val   Loss: 2.9633 | Acc: 31.02%\n",
      "LR: 5.00e-02\n",
      "--------------------------------------------------\n"
     ]
    },
    {
     "name": "stderr",
     "output_type": "stream",
     "text": [
      "                                                           \r"
     ]
    },
    {
     "name": "stdout",
     "output_type": "stream",
     "text": [
      "\n",
      "Epoch 16/100\n",
      "Train Loss: 1.9969 | Acc: 48.76%\n",
      "Val   Loss: 3.0306 | Acc: 30.53%\n",
      "LR: 5.00e-02\n",
      "--------------------------------------------------\n"
     ]
    },
    {
     "name": "stderr",
     "output_type": "stream",
     "text": [
      "                                                           \r"
     ]
    },
    {
     "name": "stdout",
     "output_type": "stream",
     "text": [
      "\n",
      "Epoch 17/100\n",
      "Train Loss: 1.7428 | Acc: 53.30%\n",
      "Val   Loss: 3.0197 | Acc: 31.35%\n",
      "LR: 5.00e-02\n",
      "--------------------------------------------------\n"
     ]
    },
    {
     "name": "stderr",
     "output_type": "stream",
     "text": [
      "                                                           \r"
     ]
    },
    {
     "name": "stdout",
     "output_type": "stream",
     "text": [
      "\n",
      "Epoch 18/100\n",
      "Train Loss: 1.4392 | Acc: 60.93%\n",
      "Val   Loss: 3.7192 | Acc: 25.58%\n",
      "LR: 5.00e-02\n",
      "--------------------------------------------------\n"
     ]
    },
    {
     "name": "stderr",
     "output_type": "stream",
     "text": [
      "                                                           \r"
     ]
    },
    {
     "name": "stdout",
     "output_type": "stream",
     "text": [
      "\n",
      "Epoch 19/100\n",
      "Train Loss: 1.2692 | Acc: 65.43%\n",
      "Val   Loss: 2.9702 | Acc: 31.35%\n",
      "LR: 5.00e-02\n",
      "--------------------------------------------------\n"
     ]
    },
    {
     "name": "stderr",
     "output_type": "stream",
     "text": [
      "                                                           \r"
     ]
    },
    {
     "name": "stdout",
     "output_type": "stream",
     "text": [
      "\n",
      "Epoch 20/100\n",
      "Train Loss: 0.9481 | Acc: 74.96%\n",
      "Val   Loss: 2.9967 | Acc: 34.32%\n",
      "LR: 5.00e-02\n",
      "--------------------------------------------------\n"
     ]
    },
    {
     "name": "stderr",
     "output_type": "stream",
     "text": [
      "                                                           \r"
     ]
    },
    {
     "name": "stdout",
     "output_type": "stream",
     "text": [
      "\n",
      "Epoch 21/100\n",
      "Train Loss: 0.4372 | Acc: 91.09%\n",
      "Val   Loss: 2.2991 | Acc: 45.38%\n",
      "LR: 2.50e-02\n",
      "--------------------------------------------------\n"
     ]
    },
    {
     "name": "stderr",
     "output_type": "stream",
     "text": [
      "                                                           \r"
     ]
    },
    {
     "name": "stdout",
     "output_type": "stream",
     "text": [
      "\n",
      "Epoch 22/100\n",
      "Train Loss: 0.2112 | Acc: 97.11%\n",
      "Val   Loss: 2.2835 | Acc: 44.72%\n",
      "LR: 2.50e-02\n",
      "--------------------------------------------------\n"
     ]
    },
    {
     "name": "stderr",
     "output_type": "stream",
     "text": [
      "                                                           \r"
     ]
    },
    {
     "name": "stdout",
     "output_type": "stream",
     "text": [
      "\n",
      "Epoch 23/100\n",
      "Train Loss: 0.1054 | Acc: 99.55%\n",
      "Val   Loss: 2.1527 | Acc: 48.68%\n",
      "LR: 2.50e-02\n",
      "--------------------------------------------------\n"
     ]
    },
    {
     "name": "stderr",
     "output_type": "stream",
     "text": [
      "                                                           \r"
     ]
    },
    {
     "name": "stdout",
     "output_type": "stream",
     "text": [
      "\n",
      "Epoch 24/100\n",
      "Train Loss: 0.0634 | Acc: 99.88%\n",
      "Val   Loss: 2.0869 | Acc: 50.17%\n",
      "LR: 2.50e-02\n",
      "--------------------------------------------------\n"
     ]
    },
    {
     "name": "stderr",
     "output_type": "stream",
     "text": [
      "                                                           \r"
     ]
    },
    {
     "name": "stdout",
     "output_type": "stream",
     "text": [
      "\n",
      "Epoch 25/100\n",
      "Train Loss: 0.0450 | Acc: 100.00%\n",
      "Val   Loss: 2.0507 | Acc: 50.33%\n",
      "LR: 2.50e-02\n",
      "--------------------------------------------------\n"
     ]
    },
    {
     "name": "stderr",
     "output_type": "stream",
     "text": [
      "                                                           \r"
     ]
    },
    {
     "name": "stdout",
     "output_type": "stream",
     "text": [
      "\n",
      "Epoch 26/100\n",
      "Train Loss: 0.0355 | Acc: 100.00%\n",
      "Val   Loss: 2.0489 | Acc: 51.65%\n",
      "LR: 2.50e-02\n",
      "--------------------------------------------------\n"
     ]
    },
    {
     "name": "stderr",
     "output_type": "stream",
     "text": [
      "                                                           \r"
     ]
    },
    {
     "name": "stdout",
     "output_type": "stream",
     "text": [
      "\n",
      "Epoch 27/100\n",
      "Train Loss: 0.0337 | Acc: 100.00%\n",
      "Val   Loss: 2.0763 | Acc: 50.50%\n",
      "LR: 2.50e-02\n",
      "--------------------------------------------------\n"
     ]
    },
    {
     "name": "stderr",
     "output_type": "stream",
     "text": [
      "                                                           \r"
     ]
    },
    {
     "name": "stdout",
     "output_type": "stream",
     "text": [
      "\n",
      "Epoch 28/100\n",
      "Train Loss: 0.0281 | Acc: 100.00%\n",
      "Val   Loss: 2.0310 | Acc: 51.65%\n",
      "LR: 2.50e-02\n",
      "--------------------------------------------------\n"
     ]
    },
    {
     "name": "stderr",
     "output_type": "stream",
     "text": [
      "                                                           \r"
     ]
    },
    {
     "name": "stdout",
     "output_type": "stream",
     "text": [
      "\n",
      "Epoch 29/100\n",
      "Train Loss: 0.0254 | Acc: 100.00%\n",
      "Val   Loss: 2.0143 | Acc: 52.31%\n",
      "LR: 2.50e-02\n",
      "--------------------------------------------------\n"
     ]
    },
    {
     "name": "stderr",
     "output_type": "stream",
     "text": [
      "                                                           \r"
     ]
    },
    {
     "name": "stdout",
     "output_type": "stream",
     "text": [
      "\n",
      "Epoch 30/100\n",
      "Train Loss: 0.0259 | Acc: 100.00%\n",
      "Val   Loss: 1.9998 | Acc: 51.98%\n",
      "LR: 2.50e-02\n",
      "--------------------------------------------------\n"
     ]
    },
    {
     "name": "stderr",
     "output_type": "stream",
     "text": [
      "                                                           \r"
     ]
    },
    {
     "name": "stdout",
     "output_type": "stream",
     "text": [
      "\n",
      "Epoch 31/100\n",
      "Train Loss: 0.0235 | Acc: 100.00%\n",
      "Val   Loss: 2.0042 | Acc: 52.15%\n",
      "LR: 1.25e-02\n",
      "--------------------------------------------------\n"
     ]
    },
    {
     "name": "stderr",
     "output_type": "stream",
     "text": [
      "                                                           \r"
     ]
    },
    {
     "name": "stdout",
     "output_type": "stream",
     "text": [
      "\n",
      "Epoch 32/100\n",
      "Train Loss: 0.0220 | Acc: 100.00%\n",
      "Val   Loss: 2.0137 | Acc: 51.65%\n",
      "LR: 1.25e-02\n",
      "--------------------------------------------------\n"
     ]
    },
    {
     "name": "stderr",
     "output_type": "stream",
     "text": [
      "                                                           \r"
     ]
    },
    {
     "name": "stdout",
     "output_type": "stream",
     "text": [
      "\n",
      "Epoch 33/100\n",
      "Train Loss: 0.0204 | Acc: 100.00%\n",
      "Val   Loss: 1.9804 | Acc: 52.97%\n",
      "LR: 1.25e-02\n",
      "--------------------------------------------------\n"
     ]
    },
    {
     "name": "stderr",
     "output_type": "stream",
     "text": [
      "                                                           \r"
     ]
    },
    {
     "name": "stdout",
     "output_type": "stream",
     "text": [
      "\n",
      "Epoch 34/100\n",
      "Train Loss: 0.0199 | Acc: 100.00%\n",
      "Val   Loss: 1.9790 | Acc: 51.49%\n",
      "LR: 1.25e-02\n",
      "--------------------------------------------------\n"
     ]
    },
    {
     "name": "stderr",
     "output_type": "stream",
     "text": [
      "                                                           \r"
     ]
    },
    {
     "name": "stdout",
     "output_type": "stream",
     "text": [
      "\n",
      "Epoch 35/100\n",
      "Train Loss: 0.0197 | Acc: 100.00%\n",
      "Val   Loss: 1.9749 | Acc: 52.81%\n",
      "LR: 1.25e-02\n",
      "--------------------------------------------------\n"
     ]
    },
    {
     "name": "stderr",
     "output_type": "stream",
     "text": [
      "                                                           \r"
     ]
    },
    {
     "name": "stdout",
     "output_type": "stream",
     "text": [
      "\n",
      "Epoch 36/100\n",
      "Train Loss: 0.0211 | Acc: 100.00%\n",
      "Val   Loss: 1.9684 | Acc: 52.81%\n",
      "LR: 1.25e-02\n",
      "--------------------------------------------------\n"
     ]
    },
    {
     "name": "stderr",
     "output_type": "stream",
     "text": [
      "                                                           \r"
     ]
    },
    {
     "name": "stdout",
     "output_type": "stream",
     "text": [
      "\n",
      "Epoch 37/100\n",
      "Train Loss: 0.0204 | Acc: 100.00%\n",
      "Val   Loss: 1.9677 | Acc: 52.15%\n",
      "LR: 1.25e-02\n",
      "--------------------------------------------------\n"
     ]
    },
    {
     "name": "stderr",
     "output_type": "stream",
     "text": [
      "                                                           \r"
     ]
    },
    {
     "name": "stdout",
     "output_type": "stream",
     "text": [
      "\n",
      "Epoch 38/100\n",
      "Train Loss: 0.0199 | Acc: 100.00%\n",
      "Val   Loss: 1.9521 | Acc: 53.30%\n",
      "LR: 1.25e-02\n",
      "--------------------------------------------------\n"
     ]
    },
    {
     "name": "stderr",
     "output_type": "stream",
     "text": [
      "                                                           \r"
     ]
    },
    {
     "name": "stdout",
     "output_type": "stream",
     "text": [
      "\n",
      "Epoch 39/100\n",
      "Train Loss: 0.0196 | Acc: 100.00%\n",
      "Val   Loss: 1.9790 | Acc: 52.31%\n",
      "LR: 1.25e-02\n",
      "--------------------------------------------------\n"
     ]
    },
    {
     "name": "stderr",
     "output_type": "stream",
     "text": [
      "                                                           \r"
     ]
    },
    {
     "name": "stdout",
     "output_type": "stream",
     "text": [
      "\n",
      "Epoch 40/100\n",
      "Train Loss: 0.0195 | Acc: 100.00%\n",
      "Val   Loss: 1.9777 | Acc: 52.81%\n",
      "LR: 1.25e-02\n",
      "--------------------------------------------------\n"
     ]
    },
    {
     "name": "stderr",
     "output_type": "stream",
     "text": [
      "                                                           \r"
     ]
    },
    {
     "name": "stdout",
     "output_type": "stream",
     "text": [
      "\n",
      "Epoch 41/100\n",
      "Train Loss: 0.0185 | Acc: 100.00%\n",
      "Val   Loss: 1.9624 | Acc: 52.97%\n",
      "LR: 6.25e-03\n",
      "--------------------------------------------------\n"
     ]
    },
    {
     "name": "stderr",
     "output_type": "stream",
     "text": [
      "                                                           \r"
     ]
    },
    {
     "name": "stdout",
     "output_type": "stream",
     "text": [
      "\n",
      "Epoch 42/100\n",
      "Train Loss: 0.0188 | Acc: 100.00%\n",
      "Val   Loss: 1.9583 | Acc: 51.82%\n",
      "LR: 6.25e-03\n",
      "--------------------------------------------------\n"
     ]
    },
    {
     "name": "stderr",
     "output_type": "stream",
     "text": [
      "                                                           "
     ]
    },
    {
     "name": "stdout",
     "output_type": "stream",
     "text": [
      "\n",
      "Epoch 43/100\n",
      "Train Loss: 0.0191 | Acc: 100.00%\n",
      "Val   Loss: 1.9462 | Acc: 51.82%\n",
      "LR: 6.25e-03\n",
      "--------------------------------------------------\n",
      "Early stopping at epoch 44\n"
     ]
    },
    {
     "name": "stderr",
     "output_type": "stream",
     "text": [
      "\r"
     ]
    },
    {
     "data": {
      "image/png": "[encoded data removed]",
      "text/plain": [
       "<Figure size 1200x500 with 2 Axes>"
      ]
     },
     "metadata": {},
     "output_type": "display_data"
    }
   ],
   "source": [
    "from models import Caltech101Classifier\n",
    "from train import Trainer, count_params\n",
    "\n",
    "model = Caltech101Classifier(arch='resnet18', pretrained=False)  # 不加载ImageNet权重\n",
    "\n",
    "trainer = Trainer(\n",
    "    model=model,\n",
    "    mode='scratch',\n",
    "    lr=0.1,                 # 总体学习率\n",
    "    reg=1e-3,\n",
    "    step_size=10,\n",
    "    gamma=0.5,\n",
    "    patience=5,\n",
    "    momentum=0.9\n",
    ")\n",
    "\n",
    "# 4. 参数统计\n",
    "count_params(model)\n",
    "\n",
    "# 5. 开始训练\n",
    "trainer.train(train_loader, val_loader, epochs=100, save_path=\"checkpoints/scratch_resnet18_2.pth\")\n",
    "\n",
    "# 6. 可视化\n",
    "trainer.plot_learning_curve()"
   ]
  },
  {
   "cell_type": "markdown",
   "id": "eafc8165",
   "metadata": {},
   "source": [
    "### 4b\n",
    "#### `step_size=10, gamma=0.5, lr=0.1, patience=5, reg=1e-2, epochs=100`, data augmentation"
   ]
  },
  {
   "cell_type": "code",
   "execution_count": 3,
   "id": "411478c6",
   "metadata": {},
   "outputs": [
    {
     "name": "stderr",
     "output_type": "stream",
     "text": [
      "d:\\APP\\Python\\Lib\\site-packages\\torchvision\\models\\_utils.py:208: UserWarning: The parameter 'pretrained' is deprecated since 0.13 and may be removed in the future, please use 'weights' instead.\n",
      "  warnings.warn(\n",
      "d:\\APP\\Python\\Lib\\site-packages\\torchvision\\models\\_utils.py:223: UserWarning: Arguments other than a weight enum or `None` for 'weights' are deprecated since 0.13 and may be removed in the future. The current behavior is equivalent to passing `weights=None`.\n",
      "  warnings.warn(msg)\n"
     ]
    },
    {
     "name": "stdout",
     "output_type": "stream",
     "text": [
      "Total parameters: 11,228,325\n",
      "Trainable parameters: 11,228,325\n"
     ]
    },
    {
     "name": "stderr",
     "output_type": "stream",
     "text": [
      "                                                           \r"
     ]
    },
    {
     "name": "stdout",
     "output_type": "stream",
     "text": [
      "\n",
      "Epoch 1/100\n",
      "Train Loss: 5.0555 | Acc: 0.95%\n",
      "Val   Loss: 4.6166 | Acc: 0.99%\n",
      "LR: 1.00e-01\n",
      "--------------------------------------------------\n"
     ]
    },
    {
     "name": "stderr",
     "output_type": "stream",
     "text": [
      "                                                           \r"
     ]
    },
    {
     "name": "stdout",
     "output_type": "stream",
     "text": [
      "\n",
      "Epoch 2/100\n",
      "Train Loss: 4.5982 | Acc: 1.32%\n",
      "Val   Loss: 4.6152 | Acc: 0.99%\n",
      "LR: 1.00e-01\n",
      "--------------------------------------------------\n"
     ]
    },
    {
     "name": "stderr",
     "output_type": "stream",
     "text": [
      "                                                           \r"
     ]
    },
    {
     "name": "stdout",
     "output_type": "stream",
     "text": [
      "\n",
      "Epoch 3/100\n",
      "Train Loss: 4.5334 | Acc: 2.06%\n",
      "Val   Loss: 4.5845 | Acc: 1.98%\n",
      "LR: 1.00e-01\n",
      "--------------------------------------------------\n"
     ]
    },
    {
     "name": "stderr",
     "output_type": "stream",
     "text": [
      "                                                           \r"
     ]
    },
    {
     "name": "stdout",
     "output_type": "stream",
     "text": [
      "\n",
      "Epoch 4/100\n",
      "Train Loss: 4.5125 | Acc: 2.06%\n",
      "Val   Loss: 4.5801 | Acc: 1.49%\n",
      "LR: 1.00e-01\n",
      "--------------------------------------------------\n"
     ]
    },
    {
     "name": "stderr",
     "output_type": "stream",
     "text": [
      "                                                           \r"
     ]
    },
    {
     "name": "stdout",
     "output_type": "stream",
     "text": [
      "\n",
      "Epoch 5/100\n",
      "Train Loss: 4.5184 | Acc: 1.86%\n",
      "Val   Loss: 4.5120 | Acc: 1.49%\n",
      "LR: 1.00e-01\n",
      "--------------------------------------------------\n"
     ]
    },
    {
     "name": "stderr",
     "output_type": "stream",
     "text": [
      "                                                               \r"
     ]
    },
    {
     "name": "stdout",
     "output_type": "stream",
     "text": [
      "\n",
      "Epoch 6/100\n",
      "Train Loss: 4.5000 | Acc: 2.10%\n",
      "Val   Loss: 4.7210 | Acc: 1.49%\n",
      "LR: 1.00e-01\n",
      "--------------------------------------------------\n"
     ]
    },
    {
     "name": "stderr",
     "output_type": "stream",
     "text": [
      "                                                           \r"
     ]
    },
    {
     "name": "stdout",
     "output_type": "stream",
     "text": [
      "\n",
      "Epoch 7/100\n",
      "Train Loss: 4.5035 | Acc: 1.98%\n",
      "Val   Loss: 4.4709 | Acc: 3.14%\n",
      "LR: 1.00e-01\n",
      "--------------------------------------------------\n"
     ]
    },
    {
     "name": "stderr",
     "output_type": "stream",
     "text": [
      "                                                           \r"
     ]
    },
    {
     "name": "stdout",
     "output_type": "stream",
     "text": [
      "\n",
      "Epoch 8/100\n",
      "Train Loss: 4.4919 | Acc: 2.27%\n",
      "Val   Loss: 4.5026 | Acc: 0.99%\n",
      "LR: 1.00e-01\n",
      "--------------------------------------------------\n"
     ]
    },
    {
     "name": "stderr",
     "output_type": "stream",
     "text": [
      "                                                           \r"
     ]
    },
    {
     "name": "stdout",
     "output_type": "stream",
     "text": [
      "\n",
      "Epoch 9/100\n",
      "Train Loss: 4.4969 | Acc: 1.86%\n",
      "Val   Loss: 4.5775 | Acc: 2.64%\n",
      "LR: 1.00e-01\n",
      "--------------------------------------------------\n"
     ]
    },
    {
     "name": "stderr",
     "output_type": "stream",
     "text": [
      "                                                           \r"
     ]
    },
    {
     "name": "stdout",
     "output_type": "stream",
     "text": [
      "\n",
      "Epoch 10/100\n",
      "Train Loss: 4.4771 | Acc: 2.31%\n",
      "Val   Loss: 5.1643 | Acc: 1.32%\n",
      "LR: 1.00e-01\n",
      "--------------------------------------------------\n"
     ]
    },
    {
     "name": "stderr",
     "output_type": "stream",
     "text": [
      "                                                           \r"
     ]
    },
    {
     "name": "stdout",
     "output_type": "stream",
     "text": [
      "\n",
      "Epoch 11/100\n",
      "Train Loss: 4.4466 | Acc: 2.27%\n",
      "Val   Loss: 4.5441 | Acc: 1.32%\n",
      "LR: 5.00e-02\n",
      "--------------------------------------------------\n"
     ]
    },
    {
     "name": "stderr",
     "output_type": "stream",
     "text": [
      "                                                           \r"
     ]
    },
    {
     "name": "stdout",
     "output_type": "stream",
     "text": [
      "\n",
      "Epoch 12/100\n",
      "Train Loss: 4.4203 | Acc: 2.23%\n",
      "Val   Loss: 4.4261 | Acc: 1.65%\n",
      "LR: 5.00e-02\n",
      "--------------------------------------------------\n",
      "Early stopping at epoch 13\n"
     ]
    },
    {
     "data": {
      "image/png": "[encoded data removed]",
      "text/plain": [
       "<Figure size 1200x500 with 2 Axes>"
      ]
     },
     "metadata": {},
     "output_type": "display_data"
    }
   ],
   "source": [
    "from models import Caltech101Classifier\n",
    "from train import Trainer, count_params\n",
    "\n",
    "model = Caltech101Classifier(arch='resnet18', pretrained=False)  # 不加载ImageNet权重\n",
    "\n",
    "trainer = Trainer(\n",
    "    model=model,\n",
    "    mode='scratch',\n",
    "    lr=0.1,                 # 总体学习率\n",
    "    reg=1e-2,\n",
    "    step_size=10,\n",
    "    gamma=0.5,\n",
    "    patience=5,\n",
    "    momentum=0.9\n",
    ")\n",
    "\n",
    "# 4. 参数统计\n",
    "count_params(model)\n",
    "\n",
    "# 5. 开始训练\n",
    "trainer.train(train_loader, val_loader, epochs=100, save_path=\"checkpoints/scratch_resnet18_3.pth\")\n",
    "\n",
    "# 6. 可视化\n",
    "trainer.plot_learning_curve()"
   ]
  },
  {
   "cell_type": "code",
   "execution_count": 17,
   "id": "17554822",
   "metadata": {},
   "outputs": [
    {
     "data": {
      "image/png": "[encoded data removed]",
      "text/plain": [
       "<Figure size 1400x500 with 2 Axes>"
      ]
     },
     "metadata": {},
     "output_type": "display_data"
    }
   ],
   "source": [
    "import matplotlib.pyplot as plt\n",
    "\n",
    "fig, (ax1, ax2) = plt.subplots(1, 2, figsize=(14, 5))\n",
    "\n",
    "# 绘制 Train Loss\n",
    "ax1.plot(train_loss_1a, label='1a')\n",
    "ax1.plot(train_loss_2a, label='2a')\n",
    "ax1.plot(train_loss_3a, label='3a')\n",
    "ax1.plot(train_loss_4a, label='4a')\n",
    "ax1.plot(train_loss_1b, label='1b')\n",
    "ax1.plot(train_loss_2b, label='2b')\n",
    "ax1.plot(train_loss_3b, label='3b')\n",
    "ax1.set_title('Train Loss')\n",
    "ax1.set_xlabel('Epoch')\n",
    "ax1.set_ylabel('Loss')\n",
    "ax1.legend()\n",
    "\n",
    "# 绘制 Val Acc\n",
    "ax2.plot(val_acc_1a, label='1a')\n",
    "ax2.plot(val_acc_2a, label='2a')\n",
    "ax2.plot(val_acc_3a, label='3a')\n",
    "ax2.plot(val_acc_4a, label='4a')\n",
    "ax2.plot(val_acc_1b, label='1b')\n",
    "ax2.plot(val_acc_2b, label='2b')\n",
    "ax2.plot(val_acc_3b, label='3b')\n",
    "ax2.set_title('Validation Accuracy')\n",
    "ax2.set_xlabel('Epoch')\n",
    "ax2.set_ylabel('Accuracy (%)')\n",
    "ax2.legend()\n",
    "\n",
    "# 调整布局并显示\n",
    "plt.tight_layout()\n",
    "plt.show()"
   ]
  }
 ],
 "metadata": {
  "kernelspec": {
   "display_name": "Python 3",
   "language": "python",
   "name": "python3"
  },
  "language_info": {
   "codemirror_mode": {
    "name": "ipython",
    "version": 3
   },
   "file_extension": ".py",
   "mimetype": "text/x-python",
   "name": "python",
   "nbconvert_exporter": "python",
   "pygments_lexer": "ipython3",
   "version": "undefined.undefined.undefined"
  }
 },
 "nbformat": 4,
 "nbformat_minor": 5
}
